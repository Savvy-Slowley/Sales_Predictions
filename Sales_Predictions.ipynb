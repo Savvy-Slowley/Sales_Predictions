{
  "nbformat": 4,
  "nbformat_minor": 0,
  "metadata": {
    "colab": {
      "name": "Sales Predictions.ipynb",
      "provenance": [],
      "collapsed_sections": [],
      "include_colab_link": true
    },
    "kernelspec": {
      "display_name": "Python 3",
      "name": "python3"
    },
    "language_info": {
      "name": "python"
    }
  },
  "cells": [
    {
      "cell_type": "markdown",
      "metadata": {
        "id": "view-in-github",
        "colab_type": "text"
      },
      "source": [
        "<a href=\"https://colab.research.google.com/github/Savvy-Slowley/Sales_Predictions-PROJECT-/blob/main/Sales_Predictions.ipynb\" target=\"_parent\"><img src=\"https://colab.research.google.com/assets/colab-badge.svg\" alt=\"Open In Colab\"/></a>"
      ]
    },
    {
      "cell_type": "markdown",
      "metadata": {
        "id": "XRXUFiNvYGYn"
      },
      "source": [
        "# Mount"
      ]
    },
    {
      "cell_type": "code",
      "metadata": {
        "colab": {
          "base_uri": "https://localhost:8080/"
        },
        "id": "lIbp50xNiYYu",
        "outputId": "0217086b-4d58-4c8b-e6e8-c217dae1a904"
      },
      "source": [
        "from google.colab import drive\n",
        "drive.mount('/content/drive')"
      ],
      "execution_count": 1,
      "outputs": [
        {
          "output_type": "stream",
          "name": "stdout",
          "text": [
            "Drive already mounted at /content/drive; to attempt to forcibly remount, call drive.mount(\"/content/drive\", force_remount=True).\n"
          ]
        }
      ]
    },
    {
      "cell_type": "markdown",
      "metadata": {
        "id": "IuQ5uAtDYJLT"
      },
      "source": [
        "# Import"
      ]
    },
    {
      "cell_type": "code",
      "metadata": {
        "id": "Qqg9ATSTLhHC"
      },
      "source": [
        "##Basic##\n",
        "import pandas as pd\n",
        "import matplotlib.pyplot as plt\n",
        "import numpy as np\n",
        "import seaborn as sns\n",
        "\n",
        "##Pre-Processing##\n",
        "# Import the TTS from sklearn\n",
        "from sklearn.model_selection import train_test_split\n",
        "# Import label encoder \n",
        "from sklearn import preprocessing\n",
        "from sklearn.preprocessing import LabelEncoder\n",
        "# For scaling data\n",
        "from sklearn.preprocessing import StandardScaler\n",
        "\n",
        "##Models##\n",
        "#Import the Decision tree\n",
        "from sklearn.tree import DecisionTreeRegressor\n",
        "#Import the Bagging regressor\n",
        "from sklearn.ensemble import BaggingRegressor\n",
        "# Import Random Forest Regressor\n",
        "from sklearn.ensemble import RandomForestRegressor\n",
        "# Make a linear regression model\n",
        "from sklearn.linear_model import LinearRegression\n",
        "\n",
        "##Metrics##\n",
        "#Coefficient of Determination, Mean Squared Error, Mean Absolute Error\n",
        "from sklearn.metrics import r2_score, mean_squared_error, mean_absolute_error"
      ],
      "execution_count": 2,
      "outputs": []
    },
    {
      "cell_type": "markdown",
      "metadata": {
        "id": "pf3xnSwzErgj"
      },
      "source": [
        "# Generating The Data"
      ]
    },
    {
      "cell_type": "code",
      "metadata": {
        "colab": {
          "base_uri": "https://localhost:8080/",
          "height": 310
        },
        "id": "OdG_7MaNscm4",
        "outputId": "e87faecb-2ba3-469f-8453-58bf75349c58"
      },
      "source": [
        "df = pd.read_csv('/content/sales_predictions.csv')\n",
        "df.head()"
      ],
      "execution_count": 3,
      "outputs": [
        {
          "output_type": "execute_result",
          "data": {
            "text/html": [
              "<div>\n",
              "<style scoped>\n",
              "    .dataframe tbody tr th:only-of-type {\n",
              "        vertical-align: middle;\n",
              "    }\n",
              "\n",
              "    .dataframe tbody tr th {\n",
              "        vertical-align: top;\n",
              "    }\n",
              "\n",
              "    .dataframe thead th {\n",
              "        text-align: right;\n",
              "    }\n",
              "</style>\n",
              "<table border=\"1\" class=\"dataframe\">\n",
              "  <thead>\n",
              "    <tr style=\"text-align: right;\">\n",
              "      <th></th>\n",
              "      <th>Item_Identifier</th>\n",
              "      <th>Item_Weight</th>\n",
              "      <th>Item_Fat_Content</th>\n",
              "      <th>Item_Visibility</th>\n",
              "      <th>Item_Type</th>\n",
              "      <th>Item_MRP</th>\n",
              "      <th>Outlet_Identifier</th>\n",
              "      <th>Outlet_Establishment_Year</th>\n",
              "      <th>Outlet_Size</th>\n",
              "      <th>Outlet_Location_Type</th>\n",
              "      <th>Outlet_Type</th>\n",
              "      <th>Item_Outlet_Sales</th>\n",
              "    </tr>\n",
              "  </thead>\n",
              "  <tbody>\n",
              "    <tr>\n",
              "      <th>0</th>\n",
              "      <td>FDA15</td>\n",
              "      <td>9.30</td>\n",
              "      <td>Low Fat</td>\n",
              "      <td>0.016047</td>\n",
              "      <td>Dairy</td>\n",
              "      <td>249.8092</td>\n",
              "      <td>OUT049</td>\n",
              "      <td>1999</td>\n",
              "      <td>Medium</td>\n",
              "      <td>Tier 1</td>\n",
              "      <td>Supermarket Type1</td>\n",
              "      <td>3735.1380</td>\n",
              "    </tr>\n",
              "    <tr>\n",
              "      <th>1</th>\n",
              "      <td>DRC01</td>\n",
              "      <td>5.92</td>\n",
              "      <td>Regular</td>\n",
              "      <td>0.019278</td>\n",
              "      <td>Soft Drinks</td>\n",
              "      <td>48.2692</td>\n",
              "      <td>OUT018</td>\n",
              "      <td>2009</td>\n",
              "      <td>Medium</td>\n",
              "      <td>Tier 3</td>\n",
              "      <td>Supermarket Type2</td>\n",
              "      <td>443.4228</td>\n",
              "    </tr>\n",
              "    <tr>\n",
              "      <th>2</th>\n",
              "      <td>FDN15</td>\n",
              "      <td>17.50</td>\n",
              "      <td>Low Fat</td>\n",
              "      <td>0.016760</td>\n",
              "      <td>Meat</td>\n",
              "      <td>141.6180</td>\n",
              "      <td>OUT049</td>\n",
              "      <td>1999</td>\n",
              "      <td>Medium</td>\n",
              "      <td>Tier 1</td>\n",
              "      <td>Supermarket Type1</td>\n",
              "      <td>2097.2700</td>\n",
              "    </tr>\n",
              "    <tr>\n",
              "      <th>3</th>\n",
              "      <td>FDX07</td>\n",
              "      <td>19.20</td>\n",
              "      <td>Regular</td>\n",
              "      <td>0.000000</td>\n",
              "      <td>Fruits and Vegetables</td>\n",
              "      <td>182.0950</td>\n",
              "      <td>OUT010</td>\n",
              "      <td>1998</td>\n",
              "      <td>NaN</td>\n",
              "      <td>Tier 3</td>\n",
              "      <td>Grocery Store</td>\n",
              "      <td>732.3800</td>\n",
              "    </tr>\n",
              "    <tr>\n",
              "      <th>4</th>\n",
              "      <td>NCD19</td>\n",
              "      <td>8.93</td>\n",
              "      <td>Low Fat</td>\n",
              "      <td>0.000000</td>\n",
              "      <td>Household</td>\n",
              "      <td>53.8614</td>\n",
              "      <td>OUT013</td>\n",
              "      <td>1987</td>\n",
              "      <td>High</td>\n",
              "      <td>Tier 3</td>\n",
              "      <td>Supermarket Type1</td>\n",
              "      <td>994.7052</td>\n",
              "    </tr>\n",
              "  </tbody>\n",
              "</table>\n",
              "</div>"
            ],
            "text/plain": [
              "  Item_Identifier  Item_Weight  ...        Outlet_Type  Item_Outlet_Sales\n",
              "0           FDA15         9.30  ...  Supermarket Type1          3735.1380\n",
              "1           DRC01         5.92  ...  Supermarket Type2           443.4228\n",
              "2           FDN15        17.50  ...  Supermarket Type1          2097.2700\n",
              "3           FDX07        19.20  ...      Grocery Store           732.3800\n",
              "4           NCD19         8.93  ...  Supermarket Type1           994.7052\n",
              "\n",
              "[5 rows x 12 columns]"
            ]
          },
          "metadata": {},
          "execution_count": 3
        }
      ]
    },
    {
      "cell_type": "code",
      "metadata": {
        "colab": {
          "base_uri": "https://localhost:8080/"
        },
        "id": "sz5beEZ6DQn1",
        "outputId": "d79bff68-efde-4417-c5d6-6c16d1a5d03e"
      },
      "source": [
        "# Rows,Columns\n",
        "df.shape"
      ],
      "execution_count": 4,
      "outputs": [
        {
          "output_type": "execute_result",
          "data": {
            "text/plain": [
              "(8523, 12)"
            ]
          },
          "metadata": {},
          "execution_count": 4
        }
      ]
    },
    {
      "cell_type": "code",
      "metadata": {
        "id": "_SnHyymkG4q0",
        "colab": {
          "base_uri": "https://localhost:8080/"
        },
        "outputId": "51dc694e-0a07-48bd-cadd-b1448ae15ab4"
      },
      "source": [
        "df.info()"
      ],
      "execution_count": 5,
      "outputs": [
        {
          "output_type": "stream",
          "name": "stdout",
          "text": [
            "<class 'pandas.core.frame.DataFrame'>\n",
            "RangeIndex: 8523 entries, 0 to 8522\n",
            "Data columns (total 12 columns):\n",
            " #   Column                     Non-Null Count  Dtype  \n",
            "---  ------                     --------------  -----  \n",
            " 0   Item_Identifier            8523 non-null   object \n",
            " 1   Item_Weight                7060 non-null   float64\n",
            " 2   Item_Fat_Content           8523 non-null   object \n",
            " 3   Item_Visibility            8523 non-null   float64\n",
            " 4   Item_Type                  8523 non-null   object \n",
            " 5   Item_MRP                   8523 non-null   float64\n",
            " 6   Outlet_Identifier          8523 non-null   object \n",
            " 7   Outlet_Establishment_Year  8523 non-null   int64  \n",
            " 8   Outlet_Size                6113 non-null   object \n",
            " 9   Outlet_Location_Type       8523 non-null   object \n",
            " 10  Outlet_Type                8523 non-null   object \n",
            " 11  Item_Outlet_Sales          8523 non-null   float64\n",
            "dtypes: float64(4), int64(1), object(7)\n",
            "memory usage: 799.2+ KB\n"
          ]
        }
      ]
    },
    {
      "cell_type": "code",
      "metadata": {
        "id": "yQkOCE88UrFD",
        "colab": {
          "base_uri": "https://localhost:8080/"
        },
        "outputId": "1740466d-7fd3-419f-fa63-13bf0ebd4261"
      },
      "source": [
        "#Checking for duplicates\n",
        "df.duplicated().any()"
      ],
      "execution_count": 6,
      "outputs": [
        {
          "output_type": "execute_result",
          "data": {
            "text/plain": [
              "False"
            ]
          },
          "metadata": {},
          "execution_count": 6
        }
      ]
    },
    {
      "cell_type": "code",
      "metadata": {
        "id": "SbHFmbTSE6L3",
        "colab": {
          "base_uri": "https://localhost:8080/"
        },
        "outputId": "415398aa-9d29-4da3-92f3-dd8cba485514"
      },
      "source": [
        "#Seeing which columns have NaN values and the quantity\n",
        "df.isnull().sum()"
      ],
      "execution_count": 7,
      "outputs": [
        {
          "output_type": "execute_result",
          "data": {
            "text/plain": [
              "Item_Identifier                 0\n",
              "Item_Weight                  1463\n",
              "Item_Fat_Content                0\n",
              "Item_Visibility                 0\n",
              "Item_Type                       0\n",
              "Item_MRP                        0\n",
              "Outlet_Identifier               0\n",
              "Outlet_Establishment_Year       0\n",
              "Outlet_Size                  2410\n",
              "Outlet_Location_Type            0\n",
              "Outlet_Type                     0\n",
              "Item_Outlet_Sales               0\n",
              "dtype: int64"
            ]
          },
          "metadata": {},
          "execution_count": 7
        }
      ]
    },
    {
      "cell_type": "code",
      "metadata": {
        "id": "VwyPZShSsZSt",
        "colab": {
          "base_uri": "https://localhost:8080/",
          "height": 310
        },
        "outputId": "01c7fc09-e197-4ee6-8ca1-1963ee91b57b"
      },
      "source": [
        "#This is a block of code that makes you see which rows have NAN values\n",
        "df[df.isnull().any(axis=1)].head()"
      ],
      "execution_count": 8,
      "outputs": [
        {
          "output_type": "execute_result",
          "data": {
            "text/html": [
              "<div>\n",
              "<style scoped>\n",
              "    .dataframe tbody tr th:only-of-type {\n",
              "        vertical-align: middle;\n",
              "    }\n",
              "\n",
              "    .dataframe tbody tr th {\n",
              "        vertical-align: top;\n",
              "    }\n",
              "\n",
              "    .dataframe thead th {\n",
              "        text-align: right;\n",
              "    }\n",
              "</style>\n",
              "<table border=\"1\" class=\"dataframe\">\n",
              "  <thead>\n",
              "    <tr style=\"text-align: right;\">\n",
              "      <th></th>\n",
              "      <th>Item_Identifier</th>\n",
              "      <th>Item_Weight</th>\n",
              "      <th>Item_Fat_Content</th>\n",
              "      <th>Item_Visibility</th>\n",
              "      <th>Item_Type</th>\n",
              "      <th>Item_MRP</th>\n",
              "      <th>Outlet_Identifier</th>\n",
              "      <th>Outlet_Establishment_Year</th>\n",
              "      <th>Outlet_Size</th>\n",
              "      <th>Outlet_Location_Type</th>\n",
              "      <th>Outlet_Type</th>\n",
              "      <th>Item_Outlet_Sales</th>\n",
              "    </tr>\n",
              "  </thead>\n",
              "  <tbody>\n",
              "    <tr>\n",
              "      <th>3</th>\n",
              "      <td>FDX07</td>\n",
              "      <td>19.2</td>\n",
              "      <td>Regular</td>\n",
              "      <td>0.000000</td>\n",
              "      <td>Fruits and Vegetables</td>\n",
              "      <td>182.0950</td>\n",
              "      <td>OUT010</td>\n",
              "      <td>1998</td>\n",
              "      <td>NaN</td>\n",
              "      <td>Tier 3</td>\n",
              "      <td>Grocery Store</td>\n",
              "      <td>732.3800</td>\n",
              "    </tr>\n",
              "    <tr>\n",
              "      <th>7</th>\n",
              "      <td>FDP10</td>\n",
              "      <td>NaN</td>\n",
              "      <td>Low Fat</td>\n",
              "      <td>0.127470</td>\n",
              "      <td>Snack Foods</td>\n",
              "      <td>107.7622</td>\n",
              "      <td>OUT027</td>\n",
              "      <td>1985</td>\n",
              "      <td>Medium</td>\n",
              "      <td>Tier 3</td>\n",
              "      <td>Supermarket Type3</td>\n",
              "      <td>4022.7636</td>\n",
              "    </tr>\n",
              "    <tr>\n",
              "      <th>8</th>\n",
              "      <td>FDH17</td>\n",
              "      <td>16.2</td>\n",
              "      <td>Regular</td>\n",
              "      <td>0.016687</td>\n",
              "      <td>Frozen Foods</td>\n",
              "      <td>96.9726</td>\n",
              "      <td>OUT045</td>\n",
              "      <td>2002</td>\n",
              "      <td>NaN</td>\n",
              "      <td>Tier 2</td>\n",
              "      <td>Supermarket Type1</td>\n",
              "      <td>1076.5986</td>\n",
              "    </tr>\n",
              "    <tr>\n",
              "      <th>9</th>\n",
              "      <td>FDU28</td>\n",
              "      <td>19.2</td>\n",
              "      <td>Regular</td>\n",
              "      <td>0.094450</td>\n",
              "      <td>Frozen Foods</td>\n",
              "      <td>187.8214</td>\n",
              "      <td>OUT017</td>\n",
              "      <td>2007</td>\n",
              "      <td>NaN</td>\n",
              "      <td>Tier 2</td>\n",
              "      <td>Supermarket Type1</td>\n",
              "      <td>4710.5350</td>\n",
              "    </tr>\n",
              "    <tr>\n",
              "      <th>18</th>\n",
              "      <td>DRI11</td>\n",
              "      <td>NaN</td>\n",
              "      <td>Low Fat</td>\n",
              "      <td>0.034238</td>\n",
              "      <td>Hard Drinks</td>\n",
              "      <td>113.2834</td>\n",
              "      <td>OUT027</td>\n",
              "      <td>1985</td>\n",
              "      <td>Medium</td>\n",
              "      <td>Tier 3</td>\n",
              "      <td>Supermarket Type3</td>\n",
              "      <td>2303.6680</td>\n",
              "    </tr>\n",
              "  </tbody>\n",
              "</table>\n",
              "</div>"
            ],
            "text/plain": [
              "   Item_Identifier  Item_Weight  ...        Outlet_Type  Item_Outlet_Sales\n",
              "3            FDX07         19.2  ...      Grocery Store           732.3800\n",
              "7            FDP10          NaN  ...  Supermarket Type3          4022.7636\n",
              "8            FDH17         16.2  ...  Supermarket Type1          1076.5986\n",
              "9            FDU28         19.2  ...  Supermarket Type1          4710.5350\n",
              "18           DRI11          NaN  ...  Supermarket Type3          2303.6680\n",
              "\n",
              "[5 rows x 12 columns]"
            ]
          },
          "metadata": {},
          "execution_count": 8
        }
      ]
    },
    {
      "cell_type": "code",
      "metadata": {
        "id": "bSGaR3kMLbpu",
        "colab": {
          "base_uri": "https://localhost:8080/"
        },
        "outputId": "63e15ffa-711d-4349-e59f-8ecfda6910ce"
      },
      "source": [
        "#Running a value count for Outlet Size because it has missing values that needs to be imputed\n",
        "# I want to rename the data from high to large\n",
        "df['Outlet_Size'].value_counts()"
      ],
      "execution_count": 9,
      "outputs": [
        {
          "output_type": "execute_result",
          "data": {
            "text/plain": [
              "Medium    2793\n",
              "Small     2388\n",
              "High       932\n",
              "Name: Outlet_Size, dtype: int64"
            ]
          },
          "metadata": {},
          "execution_count": 9
        }
      ]
    },
    {
      "cell_type": "code",
      "metadata": {
        "id": "Z3lk_ImVnbqL"
      },
      "source": [
        "#There is a trend between Outlet Size and Outlet Location Type where 'Tier 3'== 'Medium', 'Tier 1' == 'Small' & 'Tier 2' == 'High'\n",
        "df['Outlet_Size'] = np.where(((df['Outlet_Location_Type'] == 'Tier 3')), 'Medium', df['Outlet_Size'])  \n",
        "df['Outlet_Size'] = np.where(((df['Outlet_Location_Type'] == 'Tier 1')), 'Small', df['Outlet_Size'])  \n",
        "df['Outlet_Size'] = np.where(((df['Outlet_Location_Type'] == 'Tier 2')), 'Large', df['Outlet_Size'])  \n",
        "#Identifies the case to apply to\n",
        "#This is the value that is inserted\n",
        "#This is the column that is affected"
      ],
      "execution_count": 10,
      "outputs": []
    },
    {
      "cell_type": "code",
      "metadata": {
        "colab": {
          "base_uri": "https://localhost:8080/",
          "height": 310
        },
        "id": "HgUAfwpGo5wl",
        "outputId": "6e694058-91c2-4c09-c6ab-1d6b3a1a6bb2"
      },
      "source": [
        "df.head()"
      ],
      "execution_count": 11,
      "outputs": [
        {
          "output_type": "execute_result",
          "data": {
            "text/html": [
              "<div>\n",
              "<style scoped>\n",
              "    .dataframe tbody tr th:only-of-type {\n",
              "        vertical-align: middle;\n",
              "    }\n",
              "\n",
              "    .dataframe tbody tr th {\n",
              "        vertical-align: top;\n",
              "    }\n",
              "\n",
              "    .dataframe thead th {\n",
              "        text-align: right;\n",
              "    }\n",
              "</style>\n",
              "<table border=\"1\" class=\"dataframe\">\n",
              "  <thead>\n",
              "    <tr style=\"text-align: right;\">\n",
              "      <th></th>\n",
              "      <th>Item_Identifier</th>\n",
              "      <th>Item_Weight</th>\n",
              "      <th>Item_Fat_Content</th>\n",
              "      <th>Item_Visibility</th>\n",
              "      <th>Item_Type</th>\n",
              "      <th>Item_MRP</th>\n",
              "      <th>Outlet_Identifier</th>\n",
              "      <th>Outlet_Establishment_Year</th>\n",
              "      <th>Outlet_Size</th>\n",
              "      <th>Outlet_Location_Type</th>\n",
              "      <th>Outlet_Type</th>\n",
              "      <th>Item_Outlet_Sales</th>\n",
              "    </tr>\n",
              "  </thead>\n",
              "  <tbody>\n",
              "    <tr>\n",
              "      <th>0</th>\n",
              "      <td>FDA15</td>\n",
              "      <td>9.30</td>\n",
              "      <td>Low Fat</td>\n",
              "      <td>0.016047</td>\n",
              "      <td>Dairy</td>\n",
              "      <td>249.8092</td>\n",
              "      <td>OUT049</td>\n",
              "      <td>1999</td>\n",
              "      <td>Small</td>\n",
              "      <td>Tier 1</td>\n",
              "      <td>Supermarket Type1</td>\n",
              "      <td>3735.1380</td>\n",
              "    </tr>\n",
              "    <tr>\n",
              "      <th>1</th>\n",
              "      <td>DRC01</td>\n",
              "      <td>5.92</td>\n",
              "      <td>Regular</td>\n",
              "      <td>0.019278</td>\n",
              "      <td>Soft Drinks</td>\n",
              "      <td>48.2692</td>\n",
              "      <td>OUT018</td>\n",
              "      <td>2009</td>\n",
              "      <td>Medium</td>\n",
              "      <td>Tier 3</td>\n",
              "      <td>Supermarket Type2</td>\n",
              "      <td>443.4228</td>\n",
              "    </tr>\n",
              "    <tr>\n",
              "      <th>2</th>\n",
              "      <td>FDN15</td>\n",
              "      <td>17.50</td>\n",
              "      <td>Low Fat</td>\n",
              "      <td>0.016760</td>\n",
              "      <td>Meat</td>\n",
              "      <td>141.6180</td>\n",
              "      <td>OUT049</td>\n",
              "      <td>1999</td>\n",
              "      <td>Small</td>\n",
              "      <td>Tier 1</td>\n",
              "      <td>Supermarket Type1</td>\n",
              "      <td>2097.2700</td>\n",
              "    </tr>\n",
              "    <tr>\n",
              "      <th>3</th>\n",
              "      <td>FDX07</td>\n",
              "      <td>19.20</td>\n",
              "      <td>Regular</td>\n",
              "      <td>0.000000</td>\n",
              "      <td>Fruits and Vegetables</td>\n",
              "      <td>182.0950</td>\n",
              "      <td>OUT010</td>\n",
              "      <td>1998</td>\n",
              "      <td>Medium</td>\n",
              "      <td>Tier 3</td>\n",
              "      <td>Grocery Store</td>\n",
              "      <td>732.3800</td>\n",
              "    </tr>\n",
              "    <tr>\n",
              "      <th>4</th>\n",
              "      <td>NCD19</td>\n",
              "      <td>8.93</td>\n",
              "      <td>Low Fat</td>\n",
              "      <td>0.000000</td>\n",
              "      <td>Household</td>\n",
              "      <td>53.8614</td>\n",
              "      <td>OUT013</td>\n",
              "      <td>1987</td>\n",
              "      <td>Medium</td>\n",
              "      <td>Tier 3</td>\n",
              "      <td>Supermarket Type1</td>\n",
              "      <td>994.7052</td>\n",
              "    </tr>\n",
              "  </tbody>\n",
              "</table>\n",
              "</div>"
            ],
            "text/plain": [
              "  Item_Identifier  Item_Weight  ...        Outlet_Type  Item_Outlet_Sales\n",
              "0           FDA15         9.30  ...  Supermarket Type1          3735.1380\n",
              "1           DRC01         5.92  ...  Supermarket Type2           443.4228\n",
              "2           FDN15        17.50  ...  Supermarket Type1          2097.2700\n",
              "3           FDX07        19.20  ...      Grocery Store           732.3800\n",
              "4           NCD19         8.93  ...  Supermarket Type1           994.7052\n",
              "\n",
              "[5 rows x 12 columns]"
            ]
          },
          "metadata": {},
          "execution_count": 11
        }
      ]
    },
    {
      "cell_type": "code",
      "metadata": {
        "id": "4typ5S83H_XO",
        "colab": {
          "base_uri": "https://localhost:8080/",
          "height": 310
        },
        "outputId": "1ede9a8f-05d7-4ded-fab7-94ba9a4a1558"
      },
      "source": [
        "df[df.isnull().any(axis=1)].head()"
      ],
      "execution_count": 12,
      "outputs": [
        {
          "output_type": "execute_result",
          "data": {
            "text/html": [
              "<div>\n",
              "<style scoped>\n",
              "    .dataframe tbody tr th:only-of-type {\n",
              "        vertical-align: middle;\n",
              "    }\n",
              "\n",
              "    .dataframe tbody tr th {\n",
              "        vertical-align: top;\n",
              "    }\n",
              "\n",
              "    .dataframe thead th {\n",
              "        text-align: right;\n",
              "    }\n",
              "</style>\n",
              "<table border=\"1\" class=\"dataframe\">\n",
              "  <thead>\n",
              "    <tr style=\"text-align: right;\">\n",
              "      <th></th>\n",
              "      <th>Item_Identifier</th>\n",
              "      <th>Item_Weight</th>\n",
              "      <th>Item_Fat_Content</th>\n",
              "      <th>Item_Visibility</th>\n",
              "      <th>Item_Type</th>\n",
              "      <th>Item_MRP</th>\n",
              "      <th>Outlet_Identifier</th>\n",
              "      <th>Outlet_Establishment_Year</th>\n",
              "      <th>Outlet_Size</th>\n",
              "      <th>Outlet_Location_Type</th>\n",
              "      <th>Outlet_Type</th>\n",
              "      <th>Item_Outlet_Sales</th>\n",
              "    </tr>\n",
              "  </thead>\n",
              "  <tbody>\n",
              "    <tr>\n",
              "      <th>7</th>\n",
              "      <td>FDP10</td>\n",
              "      <td>NaN</td>\n",
              "      <td>Low Fat</td>\n",
              "      <td>0.127470</td>\n",
              "      <td>Snack Foods</td>\n",
              "      <td>107.7622</td>\n",
              "      <td>OUT027</td>\n",
              "      <td>1985</td>\n",
              "      <td>Medium</td>\n",
              "      <td>Tier 3</td>\n",
              "      <td>Supermarket Type3</td>\n",
              "      <td>4022.7636</td>\n",
              "    </tr>\n",
              "    <tr>\n",
              "      <th>18</th>\n",
              "      <td>DRI11</td>\n",
              "      <td>NaN</td>\n",
              "      <td>Low Fat</td>\n",
              "      <td>0.034238</td>\n",
              "      <td>Hard Drinks</td>\n",
              "      <td>113.2834</td>\n",
              "      <td>OUT027</td>\n",
              "      <td>1985</td>\n",
              "      <td>Medium</td>\n",
              "      <td>Tier 3</td>\n",
              "      <td>Supermarket Type3</td>\n",
              "      <td>2303.6680</td>\n",
              "    </tr>\n",
              "    <tr>\n",
              "      <th>21</th>\n",
              "      <td>FDW12</td>\n",
              "      <td>NaN</td>\n",
              "      <td>Regular</td>\n",
              "      <td>0.035400</td>\n",
              "      <td>Baking Goods</td>\n",
              "      <td>144.5444</td>\n",
              "      <td>OUT027</td>\n",
              "      <td>1985</td>\n",
              "      <td>Medium</td>\n",
              "      <td>Tier 3</td>\n",
              "      <td>Supermarket Type3</td>\n",
              "      <td>4064.0432</td>\n",
              "    </tr>\n",
              "    <tr>\n",
              "      <th>23</th>\n",
              "      <td>FDC37</td>\n",
              "      <td>NaN</td>\n",
              "      <td>Low Fat</td>\n",
              "      <td>0.057557</td>\n",
              "      <td>Baking Goods</td>\n",
              "      <td>107.6938</td>\n",
              "      <td>OUT019</td>\n",
              "      <td>1985</td>\n",
              "      <td>Small</td>\n",
              "      <td>Tier 1</td>\n",
              "      <td>Grocery Store</td>\n",
              "      <td>214.3876</td>\n",
              "    </tr>\n",
              "    <tr>\n",
              "      <th>29</th>\n",
              "      <td>FDC14</td>\n",
              "      <td>NaN</td>\n",
              "      <td>Regular</td>\n",
              "      <td>0.072222</td>\n",
              "      <td>Canned</td>\n",
              "      <td>43.6454</td>\n",
              "      <td>OUT019</td>\n",
              "      <td>1985</td>\n",
              "      <td>Small</td>\n",
              "      <td>Tier 1</td>\n",
              "      <td>Grocery Store</td>\n",
              "      <td>125.8362</td>\n",
              "    </tr>\n",
              "  </tbody>\n",
              "</table>\n",
              "</div>"
            ],
            "text/plain": [
              "   Item_Identifier  Item_Weight  ...        Outlet_Type  Item_Outlet_Sales\n",
              "7            FDP10          NaN  ...  Supermarket Type3          4022.7636\n",
              "18           DRI11          NaN  ...  Supermarket Type3          2303.6680\n",
              "21           FDW12          NaN  ...  Supermarket Type3          4064.0432\n",
              "23           FDC37          NaN  ...      Grocery Store           214.3876\n",
              "29           FDC14          NaN  ...      Grocery Store           125.8362\n",
              "\n",
              "[5 rows x 12 columns]"
            ]
          },
          "metadata": {},
          "execution_count": 12
        }
      ]
    },
    {
      "cell_type": "code",
      "metadata": {
        "colab": {
          "base_uri": "https://localhost:8080/",
          "height": 432
        },
        "id": "wP3anl01h3MP",
        "outputId": "7b57012a-2d43-4a28-820d-dfe9f41c097b"
      },
      "source": [
        "fig, axes = plt.subplots(1, 2, figsize=(16, 6))\n",
        "fig.suptitle(\"Distribution of Item Weight With NA's\", fontsize= 20);\n",
        "sns.histplot(ax=axes[0], data=df, x=\"Item_Weight\");\n",
        "sns.boxplot(ax=axes[1], data=df, x='Item_Weight');"
      ],
      "execution_count": 13,
      "outputs": [
        {
          "output_type": "display_data",
          "data": {
            "image/png": "[encoded data removed]",
            "text/plain": [
              "<Figure size 1152x432 with 2 Axes>"
            ]
          },
          "metadata": {
            "needs_background": "light"
          }
        }
      ]
    },
    {
      "cell_type": "markdown",
      "metadata": {
        "id": "lKagbhrcS7WK"
      },
      "source": [
        "Because the distribution in this graph is even I will use the mean fill to put all the NaN values "
      ]
    },
    {
      "cell_type": "code",
      "metadata": {
        "colab": {
          "base_uri": "https://localhost:8080/",
          "height": 310
        },
        "id": "Im1uG6on8wlQ",
        "outputId": "d28db3fc-f8ac-42af-e446-43f32bba8dff"
      },
      "source": [
        "df['Item_Weight'].fillna(int(df['Item_Weight'].mean()), inplace=True)\n",
        "df.head()"
      ],
      "execution_count": 14,
      "outputs": [
        {
          "output_type": "execute_result",
          "data": {
            "text/html": [
              "<div>\n",
              "<style scoped>\n",
              "    .dataframe tbody tr th:only-of-type {\n",
              "        vertical-align: middle;\n",
              "    }\n",
              "\n",
              "    .dataframe tbody tr th {\n",
              "        vertical-align: top;\n",
              "    }\n",
              "\n",
              "    .dataframe thead th {\n",
              "        text-align: right;\n",
              "    }\n",
              "</style>\n",
              "<table border=\"1\" class=\"dataframe\">\n",
              "  <thead>\n",
              "    <tr style=\"text-align: right;\">\n",
              "      <th></th>\n",
              "      <th>Item_Identifier</th>\n",
              "      <th>Item_Weight</th>\n",
              "      <th>Item_Fat_Content</th>\n",
              "      <th>Item_Visibility</th>\n",
              "      <th>Item_Type</th>\n",
              "      <th>Item_MRP</th>\n",
              "      <th>Outlet_Identifier</th>\n",
              "      <th>Outlet_Establishment_Year</th>\n",
              "      <th>Outlet_Size</th>\n",
              "      <th>Outlet_Location_Type</th>\n",
              "      <th>Outlet_Type</th>\n",
              "      <th>Item_Outlet_Sales</th>\n",
              "    </tr>\n",
              "  </thead>\n",
              "  <tbody>\n",
              "    <tr>\n",
              "      <th>0</th>\n",
              "      <td>FDA15</td>\n",
              "      <td>9.30</td>\n",
              "      <td>Low Fat</td>\n",
              "      <td>0.016047</td>\n",
              "      <td>Dairy</td>\n",
              "      <td>249.8092</td>\n",
              "      <td>OUT049</td>\n",
              "      <td>1999</td>\n",
              "      <td>Small</td>\n",
              "      <td>Tier 1</td>\n",
              "      <td>Supermarket Type1</td>\n",
              "      <td>3735.1380</td>\n",
              "    </tr>\n",
              "    <tr>\n",
              "      <th>1</th>\n",
              "      <td>DRC01</td>\n",
              "      <td>5.92</td>\n",
              "      <td>Regular</td>\n",
              "      <td>0.019278</td>\n",
              "      <td>Soft Drinks</td>\n",
              "      <td>48.2692</td>\n",
              "      <td>OUT018</td>\n",
              "      <td>2009</td>\n",
              "      <td>Medium</td>\n",
              "      <td>Tier 3</td>\n",
              "      <td>Supermarket Type2</td>\n",
              "      <td>443.4228</td>\n",
              "    </tr>\n",
              "    <tr>\n",
              "      <th>2</th>\n",
              "      <td>FDN15</td>\n",
              "      <td>17.50</td>\n",
              "      <td>Low Fat</td>\n",
              "      <td>0.016760</td>\n",
              "      <td>Meat</td>\n",
              "      <td>141.6180</td>\n",
              "      <td>OUT049</td>\n",
              "      <td>1999</td>\n",
              "      <td>Small</td>\n",
              "      <td>Tier 1</td>\n",
              "      <td>Supermarket Type1</td>\n",
              "      <td>2097.2700</td>\n",
              "    </tr>\n",
              "    <tr>\n",
              "      <th>3</th>\n",
              "      <td>FDX07</td>\n",
              "      <td>19.20</td>\n",
              "      <td>Regular</td>\n",
              "      <td>0.000000</td>\n",
              "      <td>Fruits and Vegetables</td>\n",
              "      <td>182.0950</td>\n",
              "      <td>OUT010</td>\n",
              "      <td>1998</td>\n",
              "      <td>Medium</td>\n",
              "      <td>Tier 3</td>\n",
              "      <td>Grocery Store</td>\n",
              "      <td>732.3800</td>\n",
              "    </tr>\n",
              "    <tr>\n",
              "      <th>4</th>\n",
              "      <td>NCD19</td>\n",
              "      <td>8.93</td>\n",
              "      <td>Low Fat</td>\n",
              "      <td>0.000000</td>\n",
              "      <td>Household</td>\n",
              "      <td>53.8614</td>\n",
              "      <td>OUT013</td>\n",
              "      <td>1987</td>\n",
              "      <td>Medium</td>\n",
              "      <td>Tier 3</td>\n",
              "      <td>Supermarket Type1</td>\n",
              "      <td>994.7052</td>\n",
              "    </tr>\n",
              "  </tbody>\n",
              "</table>\n",
              "</div>"
            ],
            "text/plain": [
              "  Item_Identifier  Item_Weight  ...        Outlet_Type  Item_Outlet_Sales\n",
              "0           FDA15         9.30  ...  Supermarket Type1          3735.1380\n",
              "1           DRC01         5.92  ...  Supermarket Type2           443.4228\n",
              "2           FDN15        17.50  ...  Supermarket Type1          2097.2700\n",
              "3           FDX07        19.20  ...      Grocery Store           732.3800\n",
              "4           NCD19         8.93  ...  Supermarket Type1           994.7052\n",
              "\n",
              "[5 rows x 12 columns]"
            ]
          },
          "metadata": {},
          "execution_count": 14
        }
      ]
    },
    {
      "cell_type": "code",
      "metadata": {
        "colab": {
          "base_uri": "https://localhost:8080/"
        },
        "id": "u7-kvp8t9VKD",
        "outputId": "c536ba70-9adf-4969-bc49-d4b3c1cb3ea4"
      },
      "source": [
        "df.isnull().sum()"
      ],
      "execution_count": 15,
      "outputs": [
        {
          "output_type": "execute_result",
          "data": {
            "text/plain": [
              "Item_Identifier              0\n",
              "Item_Weight                  0\n",
              "Item_Fat_Content             0\n",
              "Item_Visibility              0\n",
              "Item_Type                    0\n",
              "Item_MRP                     0\n",
              "Outlet_Identifier            0\n",
              "Outlet_Establishment_Year    0\n",
              "Outlet_Size                  0\n",
              "Outlet_Location_Type         0\n",
              "Outlet_Type                  0\n",
              "Item_Outlet_Sales            0\n",
              "dtype: int64"
            ]
          },
          "metadata": {},
          "execution_count": 15
        }
      ]
    },
    {
      "cell_type": "markdown",
      "metadata": {
        "id": "Aal6XIlsTMHG"
      },
      "source": [
        "Quickly checked all the value counts for each column to see if there is any data imputed incorrectly"
      ]
    },
    {
      "cell_type": "code",
      "metadata": {
        "id": "p_pM3FT0KhyJ",
        "colab": {
          "base_uri": "https://localhost:8080/"
        },
        "outputId": "354d864d-e583-4293-9761-4e5f02edeced"
      },
      "source": [
        "df['Item_Fat_Content'].value_counts()"
      ],
      "execution_count": 16,
      "outputs": [
        {
          "output_type": "execute_result",
          "data": {
            "text/plain": [
              "Low Fat    5089\n",
              "Regular    2889\n",
              "LF          316\n",
              "reg         117\n",
              "low fat     112\n",
              "Name: Item_Fat_Content, dtype: int64"
            ]
          },
          "metadata": {},
          "execution_count": 16
        }
      ]
    },
    {
      "cell_type": "markdown",
      "metadata": {
        "id": "xXqCy5wjTnT3"
      },
      "source": [
        "LF & low fat is suppose to be Low Fat and reg is suppose to be Regular"
      ]
    },
    {
      "cell_type": "code",
      "metadata": {
        "id": "eaO6DVhZPYEb"
      },
      "source": [
        "df = df.replace(['LF', 'low fat'], 'Low Fat')\n",
        "df = df.replace(['reg'], 'Regular')"
      ],
      "execution_count": 17,
      "outputs": []
    },
    {
      "cell_type": "code",
      "metadata": {
        "colab": {
          "base_uri": "https://localhost:8080/"
        },
        "id": "px-q41MsCEQZ",
        "outputId": "8cb550f9-0383-43f3-c25f-40f67fb108dc"
      },
      "source": [
        "df['Item_Fat_Content'].unique()"
      ],
      "execution_count": 18,
      "outputs": [
        {
          "output_type": "execute_result",
          "data": {
            "text/plain": [
              "array(['Low Fat', 'Regular'], dtype=object)"
            ]
          },
          "metadata": {},
          "execution_count": 18
        }
      ]
    },
    {
      "cell_type": "code",
      "metadata": {
        "colab": {
          "base_uri": "https://localhost:8080/",
          "height": 297
        },
        "id": "J7xq9vGOY1Ho",
        "outputId": "0ed46f90-a972-4c87-b019-30cacaac86e4"
      },
      "source": [
        "df.describe()"
      ],
      "execution_count": 19,
      "outputs": [
        {
          "output_type": "execute_result",
          "data": {
            "text/html": [
              "<div>\n",
              "<style scoped>\n",
              "    .dataframe tbody tr th:only-of-type {\n",
              "        vertical-align: middle;\n",
              "    }\n",
              "\n",
              "    .dataframe tbody tr th {\n",
              "        vertical-align: top;\n",
              "    }\n",
              "\n",
              "    .dataframe thead th {\n",
              "        text-align: right;\n",
              "    }\n",
              "</style>\n",
              "<table border=\"1\" class=\"dataframe\">\n",
              "  <thead>\n",
              "    <tr style=\"text-align: right;\">\n",
              "      <th></th>\n",
              "      <th>Item_Weight</th>\n",
              "      <th>Item_Visibility</th>\n",
              "      <th>Item_MRP</th>\n",
              "      <th>Outlet_Establishment_Year</th>\n",
              "      <th>Item_Outlet_Sales</th>\n",
              "    </tr>\n",
              "  </thead>\n",
              "  <tbody>\n",
              "    <tr>\n",
              "      <th>count</th>\n",
              "      <td>8523.000000</td>\n",
              "      <td>8523.000000</td>\n",
              "      <td>8523.000000</td>\n",
              "      <td>8523.000000</td>\n",
              "      <td>8523.000000</td>\n",
              "    </tr>\n",
              "    <tr>\n",
              "      <th>mean</th>\n",
              "      <td>12.710428</td>\n",
              "      <td>0.066132</td>\n",
              "      <td>140.992782</td>\n",
              "      <td>1997.831867</td>\n",
              "      <td>2181.288914</td>\n",
              "    </tr>\n",
              "    <tr>\n",
              "      <th>std</th>\n",
              "      <td>4.238481</td>\n",
              "      <td>0.051598</td>\n",
              "      <td>62.275067</td>\n",
              "      <td>8.371760</td>\n",
              "      <td>1706.499616</td>\n",
              "    </tr>\n",
              "    <tr>\n",
              "      <th>min</th>\n",
              "      <td>4.555000</td>\n",
              "      <td>0.000000</td>\n",
              "      <td>31.290000</td>\n",
              "      <td>1985.000000</td>\n",
              "      <td>33.290000</td>\n",
              "    </tr>\n",
              "    <tr>\n",
              "      <th>25%</th>\n",
              "      <td>9.310000</td>\n",
              "      <td>0.026989</td>\n",
              "      <td>93.826500</td>\n",
              "      <td>1987.000000</td>\n",
              "      <td>834.247400</td>\n",
              "    </tr>\n",
              "    <tr>\n",
              "      <th>50%</th>\n",
              "      <td>12.000000</td>\n",
              "      <td>0.053931</td>\n",
              "      <td>143.012800</td>\n",
              "      <td>1999.000000</td>\n",
              "      <td>1794.331000</td>\n",
              "    </tr>\n",
              "    <tr>\n",
              "      <th>75%</th>\n",
              "      <td>16.000000</td>\n",
              "      <td>0.094585</td>\n",
              "      <td>185.643700</td>\n",
              "      <td>2004.000000</td>\n",
              "      <td>3101.296400</td>\n",
              "    </tr>\n",
              "    <tr>\n",
              "      <th>max</th>\n",
              "      <td>21.350000</td>\n",
              "      <td>0.328391</td>\n",
              "      <td>266.888400</td>\n",
              "      <td>2009.000000</td>\n",
              "      <td>13086.964800</td>\n",
              "    </tr>\n",
              "  </tbody>\n",
              "</table>\n",
              "</div>"
            ],
            "text/plain": [
              "       Item_Weight  ...  Item_Outlet_Sales\n",
              "count  8523.000000  ...        8523.000000\n",
              "mean     12.710428  ...        2181.288914\n",
              "std       4.238481  ...        1706.499616\n",
              "min       4.555000  ...          33.290000\n",
              "25%       9.310000  ...         834.247400\n",
              "50%      12.000000  ...        1794.331000\n",
              "75%      16.000000  ...        3101.296400\n",
              "max      21.350000  ...       13086.964800\n",
              "\n",
              "[8 rows x 5 columns]"
            ]
          },
          "metadata": {},
          "execution_count": 19
        }
      ]
    },
    {
      "cell_type": "markdown",
      "metadata": {
        "id": "3CTF8JOZFGBX"
      },
      "source": [
        "# Exploratory Data Analysis (EDA)"
      ]
    },
    {
      "cell_type": "code",
      "metadata": {
        "colab": {
          "base_uri": "https://localhost:8080/",
          "height": 432
        },
        "id": "gPUzTWkQUMrv",
        "outputId": "d6c458b4-d6c2-429f-8eec-389187993342"
      },
      "source": [
        "fig, axes = plt.subplots(1, 2, figsize=(16, 6))\n",
        "fig.suptitle('Distribution of Item Weight', fontsize= 20);\n",
        "sns.histplot(ax=axes[0], data=df, x=\"Item_Weight\");\n",
        "sns.boxplot(ax=axes[1], data=df, x='Item_Weight');"
      ],
      "execution_count": 20,
      "outputs": [
        {
          "output_type": "display_data",
          "data": {
            "image/png": "[encoded data removed]",
            "text/plain": [
              "<Figure size 1152x432 with 2 Axes>"
            ]
          },
          "metadata": {
            "needs_background": "light"
          }
        }
      ]
    },
    {
      "cell_type": "code",
      "metadata": {
        "colab": {
          "base_uri": "https://localhost:8080/",
          "height": 432
        },
        "id": "e2Rr51ZdZdlb",
        "outputId": "72e0ed1c-d1ea-4536-ec4c-73d589424909"
      },
      "source": [
        "fig, axes = plt.subplots(1, 2, figsize=(16, 6))\n",
        "fig.suptitle('Distribution of Item Visibility', fontsize= 20);\n",
        "sns.histplot(ax=axes[0], data=df, x=\"Item_Visibility\");\n",
        "sns.boxplot(ax=axes[1], data=df, x='Item_Visibility');"
      ],
      "execution_count": 21,
      "outputs": [
        {
          "output_type": "display_data",
          "data": {
            "image/png": "[encoded data removed]",
            "text/plain": [
              "<Figure size 1152x432 with 2 Axes>"
            ]
          },
          "metadata": {
            "needs_background": "light"
          }
        }
      ]
    },
    {
      "cell_type": "code",
      "metadata": {
        "id": "yrPnuVgXnnNN",
        "colab": {
          "base_uri": "https://localhost:8080/",
          "height": 432
        },
        "outputId": "37c6d169-6b4c-44ba-a05b-0fb4603c15e9"
      },
      "source": [
        "fig, axes = plt.subplots(1, 2, figsize=(16, 6))\n",
        "fig.suptitle('Distribution of Item Maximum Retail Price', fontsize= 20);\n",
        "sns.histplot(ax=axes[0], data=df, x=\"Item_MRP\");\n",
        "sns.boxplot(ax=axes[1], data=df, x='Item_MRP');"
      ],
      "execution_count": 22,
      "outputs": [
        {
          "output_type": "display_data",
          "data": {
            "image/png": "[encoded data removed]",
            "text/plain": [
              "<Figure size 1152x432 with 2 Axes>"
            ]
          },
          "metadata": {
            "needs_background": "light"
          }
        }
      ]
    },
    {
      "cell_type": "code",
      "metadata": {
        "id": "5MxQYmSYn_IZ",
        "colab": {
          "base_uri": "https://localhost:8080/",
          "height": 432
        },
        "outputId": "4bae404b-5194-4453-81cc-c5c8c2d6e087"
      },
      "source": [
        "fig, axes = plt.subplots(1, 2, figsize=(16, 6))\n",
        "fig.suptitle('Distribution of Item Outlet Sales', fontsize= 20);\n",
        "sns.histplot(ax=axes[0], data=df, x=\"Item_Outlet_Sales\");\n",
        "sns.boxplot(ax=axes[1], data=df, x='Item_Outlet_Sales');"
      ],
      "execution_count": 23,
      "outputs": [
        {
          "output_type": "display_data",
          "data": {
            "image/png": "[encoded data removed]",
            "text/plain": [
              "<Figure size 1152x432 with 2 Axes>"
            ]
          },
          "metadata": {
            "needs_background": "light"
          }
        }
      ]
    },
    {
      "cell_type": "code",
      "metadata": {
        "colab": {
          "base_uri": "https://localhost:8080/",
          "height": 414
        },
        "id": "NKhdKJepCWum",
        "outputId": "5cd2f45f-53aa-47fd-b7ba-95a1702ad8bc"
      },
      "source": [
        "plt.figure(figsize=(16,6))\n",
        "sns.countplot(x='Outlet_Establishment_Year',hue='Item_Type', edgecolor='k' ,data=df);\n",
        "plt.legend(loc= (1.01, .3))\n",
        "plt.title('Outlet Establishment By Item Type', fontsize = 20);\n",
        "plt.xlabel('Outlet Establishment Year', fontsize = 15);\n",
        "plt.ylabel('Number of Items', fontsize = 15);\n",
        "plt.ylim(bottom=0, top=225); \n",
        "plt.grid(axis='y', color='k', alpha=.5) "
      ],
      "execution_count": 24,
      "outputs": [
        {
          "output_type": "display_data",
          "data": {
            "image/png": "[encoded data removed]",
            "text/plain": [
              "<Figure size 1152x432 with 1 Axes>"
            ]
          },
          "metadata": {
            "needs_background": "light"
          }
        }
      ]
    },
    {
      "cell_type": "code",
      "metadata": {
        "colab": {
          "base_uri": "https://localhost:8080/",
          "height": 436
        },
        "id": "LnlRpKFrqi2f",
        "outputId": "9a688300-0037-4ec8-92d0-90fd6148bc5d"
      },
      "source": [
        "plt.figure(figsize=(16,6))\n",
        "plt.style.use('fivethirtyeight');\n",
        "sns.countplot(x='Outlet_Size',hue='Item_Fat_Content',edgecolor='k' ,data=df, palette=[\"m\", \"c\"]);\n",
        "plt.legend(loc= (1.01, .99))\n",
        "plt.title('Outlet Size By Item Fat Content', fontsize = 20);\n",
        "plt.xlabel('Outlet Size', fontsize = 15);\n",
        "plt.ylabel('Number of Items', fontsize = 15);\n",
        "plt.ylim(bottom=0, top=2500);  \n",
        "plt.grid(axis='y', color='k')"
      ],
      "execution_count": 25,
      "outputs": [
        {
          "output_type": "display_data",
          "data": {
            "image/png": "[encoded data removed]",
            "text/plain": [
              "<Figure size 1152x432 with 1 Axes>"
            ]
          },
          "metadata": {
            "needs_background": "light"
          }
        }
      ]
    },
    {
      "cell_type": "markdown",
      "metadata": {
        "id": "LImZ_-KyF1Tm"
      },
      "source": [
        "# Data Pre-Processing"
      ]
    },
    {
      "cell_type": "code",
      "metadata": {
        "id": "iaaDNE2AD-t1"
      },
      "source": [
        "df = df.drop(columns=['Item_Identifier', 'Outlet_Identifier'])"
      ],
      "execution_count": 26,
      "outputs": []
    },
    {
      "cell_type": "code",
      "metadata": {
        "colab": {
          "base_uri": "https://localhost:8080/"
        },
        "id": "B_AKX-TdrEhK",
        "outputId": "b65b1870-b3a9-46aa-ac04-d64ab92f5d9f"
      },
      "source": [
        "df.select_dtypes(include='object').columns"
      ],
      "execution_count": 27,
      "outputs": [
        {
          "output_type": "execute_result",
          "data": {
            "text/plain": [
              "Index(['Item_Fat_Content', 'Item_Type', 'Outlet_Size', 'Outlet_Location_Type',\n",
              "       'Outlet_Type'],\n",
              "      dtype='object')"
            ]
          },
          "metadata": {},
          "execution_count": 27
        }
      ]
    },
    {
      "cell_type": "code",
      "metadata": {
        "id": "jiM-Gvcblp9c"
      },
      "source": [
        "objects = ['Item_Fat_Content', 'Item_Type', 'Outlet_Size', 'Outlet_Location_Type','Outlet_Type']"
      ],
      "execution_count": 28,
      "outputs": []
    },
    {
      "cell_type": "code",
      "metadata": {
        "colab": {
          "base_uri": "https://localhost:8080/",
          "height": 204
        },
        "id": "fYvcqrwc24S-",
        "outputId": "46f8f16b-0c48-4d3e-9f5a-0fe799334d6c"
      },
      "source": [
        "# Instantiate Label Encoder\n",
        "le = LabelEncoder()\n",
        "# Fit and transform categorical data\n",
        "df[objects] = df[objects].apply(le.fit_transform)\n",
        "df.head()"
      ],
      "execution_count": 29,
      "outputs": [
        {
          "output_type": "execute_result",
          "data": {
            "text/html": [
              "<div>\n",
              "<style scoped>\n",
              "    .dataframe tbody tr th:only-of-type {\n",
              "        vertical-align: middle;\n",
              "    }\n",
              "\n",
              "    .dataframe tbody tr th {\n",
              "        vertical-align: top;\n",
              "    }\n",
              "\n",
              "    .dataframe thead th {\n",
              "        text-align: right;\n",
              "    }\n",
              "</style>\n",
              "<table border=\"1\" class=\"dataframe\">\n",
              "  <thead>\n",
              "    <tr style=\"text-align: right;\">\n",
              "      <th></th>\n",
              "      <th>Item_Weight</th>\n",
              "      <th>Item_Fat_Content</th>\n",
              "      <th>Item_Visibility</th>\n",
              "      <th>Item_Type</th>\n",
              "      <th>Item_MRP</th>\n",
              "      <th>Outlet_Establishment_Year</th>\n",
              "      <th>Outlet_Size</th>\n",
              "      <th>Outlet_Location_Type</th>\n",
              "      <th>Outlet_Type</th>\n",
              "      <th>Item_Outlet_Sales</th>\n",
              "    </tr>\n",
              "  </thead>\n",
              "  <tbody>\n",
              "    <tr>\n",
              "      <th>0</th>\n",
              "      <td>9.30</td>\n",
              "      <td>0</td>\n",
              "      <td>0.016047</td>\n",
              "      <td>4</td>\n",
              "      <td>249.8092</td>\n",
              "      <td>1999</td>\n",
              "      <td>2</td>\n",
              "      <td>0</td>\n",
              "      <td>1</td>\n",
              "      <td>3735.1380</td>\n",
              "    </tr>\n",
              "    <tr>\n",
              "      <th>1</th>\n",
              "      <td>5.92</td>\n",
              "      <td>1</td>\n",
              "      <td>0.019278</td>\n",
              "      <td>14</td>\n",
              "      <td>48.2692</td>\n",
              "      <td>2009</td>\n",
              "      <td>1</td>\n",
              "      <td>2</td>\n",
              "      <td>2</td>\n",
              "      <td>443.4228</td>\n",
              "    </tr>\n",
              "    <tr>\n",
              "      <th>2</th>\n",
              "      <td>17.50</td>\n",
              "      <td>0</td>\n",
              "      <td>0.016760</td>\n",
              "      <td>10</td>\n",
              "      <td>141.6180</td>\n",
              "      <td>1999</td>\n",
              "      <td>2</td>\n",
              "      <td>0</td>\n",
              "      <td>1</td>\n",
              "      <td>2097.2700</td>\n",
              "    </tr>\n",
              "    <tr>\n",
              "      <th>3</th>\n",
              "      <td>19.20</td>\n",
              "      <td>1</td>\n",
              "      <td>0.000000</td>\n",
              "      <td>6</td>\n",
              "      <td>182.0950</td>\n",
              "      <td>1998</td>\n",
              "      <td>1</td>\n",
              "      <td>2</td>\n",
              "      <td>0</td>\n",
              "      <td>732.3800</td>\n",
              "    </tr>\n",
              "    <tr>\n",
              "      <th>4</th>\n",
              "      <td>8.93</td>\n",
              "      <td>0</td>\n",
              "      <td>0.000000</td>\n",
              "      <td>9</td>\n",
              "      <td>53.8614</td>\n",
              "      <td>1987</td>\n",
              "      <td>1</td>\n",
              "      <td>2</td>\n",
              "      <td>1</td>\n",
              "      <td>994.7052</td>\n",
              "    </tr>\n",
              "  </tbody>\n",
              "</table>\n",
              "</div>"
            ],
            "text/plain": [
              "   Item_Weight  Item_Fat_Content  ...  Outlet_Type  Item_Outlet_Sales\n",
              "0         9.30                 0  ...            1          3735.1380\n",
              "1         5.92                 1  ...            2           443.4228\n",
              "2        17.50                 0  ...            1          2097.2700\n",
              "3        19.20                 1  ...            0           732.3800\n",
              "4         8.93                 0  ...            1           994.7052\n",
              "\n",
              "[5 rows x 10 columns]"
            ]
          },
          "metadata": {},
          "execution_count": 29
        }
      ]
    },
    {
      "cell_type": "code",
      "metadata": {
        "id": "PnCDc06zo_wX",
        "colab": {
          "base_uri": "https://localhost:8080/",
          "height": 379
        },
        "outputId": "9e757c79-5591-426a-c64a-97c5a17f2778"
      },
      "source": [
        "corr = df.corr()\n",
        "corr"
      ],
      "execution_count": 30,
      "outputs": [
        {
          "output_type": "execute_result",
          "data": {
            "text/html": [
              "<div>\n",
              "<style scoped>\n",
              "    .dataframe tbody tr th:only-of-type {\n",
              "        vertical-align: middle;\n",
              "    }\n",
              "\n",
              "    .dataframe tbody tr th {\n",
              "        vertical-align: top;\n",
              "    }\n",
              "\n",
              "    .dataframe thead th {\n",
              "        text-align: right;\n",
              "    }\n",
              "</style>\n",
              "<table border=\"1\" class=\"dataframe\">\n",
              "  <thead>\n",
              "    <tr style=\"text-align: right;\">\n",
              "      <th></th>\n",
              "      <th>Item_Weight</th>\n",
              "      <th>Item_Fat_Content</th>\n",
              "      <th>Item_Visibility</th>\n",
              "      <th>Item_Type</th>\n",
              "      <th>Item_MRP</th>\n",
              "      <th>Outlet_Establishment_Year</th>\n",
              "      <th>Outlet_Size</th>\n",
              "      <th>Outlet_Location_Type</th>\n",
              "      <th>Outlet_Type</th>\n",
              "      <th>Item_Outlet_Sales</th>\n",
              "    </tr>\n",
              "  </thead>\n",
              "  <tbody>\n",
              "    <tr>\n",
              "      <th>Item_Weight</th>\n",
              "      <td>1.000000</td>\n",
              "      <td>-0.020897</td>\n",
              "      <td>-0.019059</td>\n",
              "      <td>0.028033</td>\n",
              "      <td>0.025351</td>\n",
              "      <td>0.044968</td>\n",
              "      <td>-0.007093</td>\n",
              "      <td>-0.002990</td>\n",
              "      <td>-0.031796</td>\n",
              "      <td>0.005361</td>\n",
              "    </tr>\n",
              "    <tr>\n",
              "      <th>Item_Fat_Content</th>\n",
              "      <td>-0.020897</td>\n",
              "      <td>1.000000</td>\n",
              "      <td>0.047314</td>\n",
              "      <td>-0.139434</td>\n",
              "      <td>0.006063</td>\n",
              "      <td>0.003151</td>\n",
              "      <td>0.003795</td>\n",
              "      <td>-0.001598</td>\n",
              "      <td>0.002199</td>\n",
              "      <td>0.018719</td>\n",
              "    </tr>\n",
              "    <tr>\n",
              "      <th>Item_Visibility</th>\n",
              "      <td>-0.019059</td>\n",
              "      <td>0.047314</td>\n",
              "      <td>1.000000</td>\n",
              "      <td>-0.035249</td>\n",
              "      <td>-0.001315</td>\n",
              "      <td>-0.074834</td>\n",
              "      <td>0.076912</td>\n",
              "      <td>-0.028099</td>\n",
              "      <td>-0.173468</td>\n",
              "      <td>-0.128625</td>\n",
              "    </tr>\n",
              "    <tr>\n",
              "      <th>Item_Type</th>\n",
              "      <td>0.028033</td>\n",
              "      <td>-0.139434</td>\n",
              "      <td>-0.035249</td>\n",
              "      <td>1.000000</td>\n",
              "      <td>0.032651</td>\n",
              "      <td>0.004970</td>\n",
              "      <td>-0.008100</td>\n",
              "      <td>0.003084</td>\n",
              "      <td>0.003053</td>\n",
              "      <td>0.017048</td>\n",
              "    </tr>\n",
              "    <tr>\n",
              "      <th>Item_MRP</th>\n",
              "      <td>0.025351</td>\n",
              "      <td>0.006063</td>\n",
              "      <td>-0.001315</td>\n",
              "      <td>0.032651</td>\n",
              "      <td>1.000000</td>\n",
              "      <td>0.005020</td>\n",
              "      <td>-0.001887</td>\n",
              "      <td>0.000232</td>\n",
              "      <td>-0.001975</td>\n",
              "      <td>0.567574</td>\n",
              "    </tr>\n",
              "    <tr>\n",
              "      <th>Outlet_Establishment_Year</th>\n",
              "      <td>0.044968</td>\n",
              "      <td>0.003151</td>\n",
              "      <td>-0.074834</td>\n",
              "      <td>0.004970</td>\n",
              "      <td>0.005020</td>\n",
              "      <td>1.000000</td>\n",
              "      <td>-0.442650</td>\n",
              "      <td>-0.089216</td>\n",
              "      <td>-0.122304</td>\n",
              "      <td>-0.049135</td>\n",
              "    </tr>\n",
              "    <tr>\n",
              "      <th>Outlet_Size</th>\n",
              "      <td>-0.007093</td>\n",
              "      <td>0.003795</td>\n",
              "      <td>0.076912</td>\n",
              "      <td>-0.008100</td>\n",
              "      <td>-0.001887</td>\n",
              "      <td>-0.442650</td>\n",
              "      <td>1.000000</td>\n",
              "      <td>-0.434993</td>\n",
              "      <td>-0.084891</td>\n",
              "      <td>-0.099404</td>\n",
              "    </tr>\n",
              "    <tr>\n",
              "      <th>Outlet_Location_Type</th>\n",
              "      <td>-0.002990</td>\n",
              "      <td>-0.001598</td>\n",
              "      <td>-0.028099</td>\n",
              "      <td>0.003084</td>\n",
              "      <td>0.000232</td>\n",
              "      <td>-0.089216</td>\n",
              "      <td>-0.434993</td>\n",
              "      <td>1.000000</td>\n",
              "      <td>0.467219</td>\n",
              "      <td>0.089367</td>\n",
              "    </tr>\n",
              "    <tr>\n",
              "      <th>Outlet_Type</th>\n",
              "      <td>-0.031796</td>\n",
              "      <td>0.002199</td>\n",
              "      <td>-0.173468</td>\n",
              "      <td>0.003053</td>\n",
              "      <td>-0.001975</td>\n",
              "      <td>-0.122304</td>\n",
              "      <td>-0.084891</td>\n",
              "      <td>0.467219</td>\n",
              "      <td>1.000000</td>\n",
              "      <td>0.401522</td>\n",
              "    </tr>\n",
              "    <tr>\n",
              "      <th>Item_Outlet_Sales</th>\n",
              "      <td>0.005361</td>\n",
              "      <td>0.018719</td>\n",
              "      <td>-0.128625</td>\n",
              "      <td>0.017048</td>\n",
              "      <td>0.567574</td>\n",
              "      <td>-0.049135</td>\n",
              "      <td>-0.099404</td>\n",
              "      <td>0.089367</td>\n",
              "      <td>0.401522</td>\n",
              "      <td>1.000000</td>\n",
              "    </tr>\n",
              "  </tbody>\n",
              "</table>\n",
              "</div>"
            ],
            "text/plain": [
              "                           Item_Weight  ...  Item_Outlet_Sales\n",
              "Item_Weight                   1.000000  ...           0.005361\n",
              "Item_Fat_Content             -0.020897  ...           0.018719\n",
              "Item_Visibility              -0.019059  ...          -0.128625\n",
              "Item_Type                     0.028033  ...           0.017048\n",
              "Item_MRP                      0.025351  ...           0.567574\n",
              "Outlet_Establishment_Year     0.044968  ...          -0.049135\n",
              "Outlet_Size                  -0.007093  ...          -0.099404\n",
              "Outlet_Location_Type         -0.002990  ...           0.089367\n",
              "Outlet_Type                  -0.031796  ...           0.401522\n",
              "Item_Outlet_Sales             0.005361  ...           1.000000\n",
              "\n",
              "[10 rows x 10 columns]"
            ]
          },
          "metadata": {},
          "execution_count": 30
        }
      ]
    },
    {
      "cell_type": "code",
      "metadata": {
        "id": "zykVSKncjDBt",
        "colab": {
          "base_uri": "https://localhost:8080/",
          "height": 577
        },
        "outputId": "467d1f79-9c46-4cc8-ad24-df59b2121ced"
      },
      "source": [
        "plt.figure(figsize=(16,6))\n",
        "sns.heatmap(corr, cmap='Greens', annot=True);"
      ],
      "execution_count": 31,
      "outputs": [
        {
          "output_type": "display_data",
          "data": {
            "image/png": "[encoded data removed]",
            "text/plain": [
              "<Figure size 1152x432 with 2 Axes>"
            ]
          },
          "metadata": {}
        }
      ]
    },
    {
      "cell_type": "code",
      "metadata": {
        "id": "OVepSUC6VZQY"
      },
      "source": [
        "# Assigning the \"Item_Outlet_Sales\" as the target\n",
        "y = df['Item_Outlet_Sales']\n",
        "X = np.array(df.drop(columns = ['Item_Outlet_Sales']))"
      ],
      "execution_count": 32,
      "outputs": []
    },
    {
      "cell_type": "code",
      "metadata": {
        "id": "v9MGgrsudxAP"
      },
      "source": [
        "# Train test split\n",
        "X_train, X_test, y_train, y_test = train_test_split(X, y, random_state=42)"
      ],
      "execution_count": 33,
      "outputs": []
    },
    {
      "cell_type": "code",
      "metadata": {
        "id": "c8h9e5fdEaGW"
      },
      "source": [
        "scaler = StandardScaler()\n",
        "# Fit on training set only\n",
        "scaler.fit(X_train)\n",
        "# Apply transform to both the training set and the test set\n",
        "X_train = scaler.transform(X_train)\n",
        "X_test = scaler.transform(X_test)"
      ],
      "execution_count": 34,
      "outputs": []
    },
    {
      "cell_type": "code",
      "metadata": {
        "id": "BdpFsoU2hI5z",
        "colab": {
          "base_uri": "https://localhost:8080/"
        },
        "outputId": "e9ade60d-eccf-4e02-ad4d-4637a7788aff"
      },
      "source": [
        "#Checking target (Rows,Columns)\n",
        "y.shape"
      ],
      "execution_count": 35,
      "outputs": [
        {
          "output_type": "execute_result",
          "data": {
            "text/plain": [
              "(8523,)"
            ]
          },
          "metadata": {},
          "execution_count": 35
        }
      ]
    },
    {
      "cell_type": "code",
      "metadata": {
        "id": "WFNZ1gCfhGDI",
        "colab": {
          "base_uri": "https://localhost:8080/"
        },
        "outputId": "937e67fa-63db-4e5c-8ddd-cbf1ee08d7e5"
      },
      "source": [
        "#Checking features (Rows,Columns)\n",
        "X.shape"
      ],
      "execution_count": 36,
      "outputs": [
        {
          "output_type": "execute_result",
          "data": {
            "text/plain": [
              "(8523, 9)"
            ]
          },
          "metadata": {},
          "execution_count": 36
        }
      ]
    },
    {
      "cell_type": "code",
      "metadata": {
        "id": "cmIHk1DGd7fG",
        "colab": {
          "base_uri": "https://localhost:8080/"
        },
        "outputId": "f55c457f-c0dd-4711-8d57-37ef5bddaebc"
      },
      "source": [
        "#Making sure 75% of the data is in the training \n",
        "print('X training:', len(X_train))\n",
        "print('y training:', len(y_train))"
      ],
      "execution_count": 37,
      "outputs": [
        {
          "output_type": "stream",
          "name": "stdout",
          "text": [
            "X training: 6392\n",
            "y training: 6392\n"
          ]
        }
      ]
    },
    {
      "cell_type": "code",
      "metadata": {
        "id": "y0cJB4uud_WM",
        "colab": {
          "base_uri": "https://localhost:8080/"
        },
        "outputId": "c030e2a4-f66f-4492-889b-80493cbca6df"
      },
      "source": [
        "#Making sure 25% of the data is in the testing pile\n",
        "print('X testing:', len(X_test))\n",
        "print('y testing:', len(y_test))"
      ],
      "execution_count": 38,
      "outputs": [
        {
          "output_type": "stream",
          "name": "stdout",
          "text": [
            "X testing: 2131\n",
            "y testing: 2131\n"
          ]
        }
      ]
    },
    {
      "cell_type": "markdown",
      "metadata": {
        "id": "36o4v4GfGbA8"
      },
      "source": [
        "# Building the Models"
      ]
    },
    {
      "cell_type": "markdown",
      "metadata": {
        "id": "H1SKqU8OGied"
      },
      "source": [
        "## Baseline Scores"
      ]
    },
    {
      "cell_type": "code",
      "metadata": {
        "colab": {
          "base_uri": "https://localhost:8080/"
        },
        "id": "aCnvhddlHRXf",
        "outputId": "5ac5ae83-f6b8-4c03-a0c1-413c7f650d27"
      },
      "source": [
        "#Baseline Coefficient of Determination Training(R^2)\n",
        "print('Baseline Coefficient of Determination Training(R^2):', r2_score(y_train, [y_train.mean()]*len(y_train)))\n",
        "#Baseline Coefficient of Determination Testing(R^2)\n",
        "print('Baseline Coefficient of Determination Testing(R^2):', r2_score(y_test, [y_train.mean()]*len(y_test)))"
      ],
      "execution_count": 39,
      "outputs": [
        {
          "output_type": "stream",
          "name": "stdout",
          "text": [
            "Baseline Coefficient of Determination Training(R^2): 0.0\n",
            "Baseline Coefficient of Determination Testing(R^2): -0.004772483978720654\n"
          ]
        }
      ]
    },
    {
      "cell_type": "code",
      "metadata": {
        "colab": {
          "base_uri": "https://localhost:8080/"
        },
        "id": "QnbFPrWrHfIk",
        "outputId": "46d127ba-10b4-4648-ac81-5fce7db8bd5f"
      },
      "source": [
        "#Baseline Root Mean Squared Error Training(RMSE)\n",
        "print('Baseline Root Mean Squared Error Training:', np.sqrt(mean_squared_error(y_train, [y_train.mean()]*len(y_train))))\n",
        "#Baseline Root Mean Squared Error Testing(RMSE)\n",
        "print('Baseline Root Mean Squared Error Testing:', np.sqrt(mean_squared_error(y_test, [y_train.mean()]*len(y_test))))"
      ],
      "execution_count": 40,
      "outputs": [
        {
          "output_type": "stream",
          "name": "stdout",
          "text": [
            "Baseline Root Mean Squared Error Training: 1720.306863477141\n",
            "Baseline Root Mean Squared Error Testing: 1664.9758144520795\n"
          ]
        }
      ]
    },
    {
      "cell_type": "markdown",
      "metadata": {
        "id": "f7n95AcFGxjS"
      },
      "source": [
        "## Linear Regression"
      ]
    },
    {
      "cell_type": "code",
      "metadata": {
        "id": "xV7baeZ0emko",
        "colab": {
          "base_uri": "https://localhost:8080/"
        },
        "outputId": "3dc7245c-e711-4538-927b-24e4bf8bff3d"
      },
      "source": [
        "# Make a linear regression instance\n",
        "reg = LinearRegression()\n",
        "#Model is learning the relationship between X and y\n",
        "reg.fit(X_train,y_train)"
      ],
      "execution_count": 41,
      "outputs": [
        {
          "output_type": "execute_result",
          "data": {
            "text/plain": [
              "LinearRegression(copy_X=True, fit_intercept=True, n_jobs=None, normalize=False)"
            ]
          },
          "metadata": {},
          "execution_count": 41
        }
      ]
    },
    {
      "cell_type": "code",
      "metadata": {
        "id": "od9ZE7y8sT12",
        "colab": {
          "base_uri": "https://localhost:8080/"
        },
        "outputId": "29517818-1221-499c-9958-cacf91a4abf6"
      },
      "source": [
        "#Compare our test and train score to make sure our model make good predictons and doesn't overfit(R^2)\n",
        "reg_test_score = reg.score(X_test, y_test)\n",
        "print('Linear Regression Test Score/Coefficient of Determination(R^2):', reg_test_score)\n",
        "reg_train_score = reg.score(X_train, y_train)\n",
        "print('Linear Regression Train Score/Coefficient of Determination(R^2):',reg_train_score)"
      ],
      "execution_count": 42,
      "outputs": [
        {
          "output_type": "stream",
          "name": "stdout",
          "text": [
            "Linear Regression Test Score/Coefficient of Determination(R^2): 0.528765039642368\n",
            "Linear Regression Train Score/Coefficient of Determination(R^2): 0.5209556062269973\n"
          ]
        }
      ]
    },
    {
      "cell_type": "code",
      "metadata": {
        "id": "lcPP-MFfrXZ3",
        "colab": {
          "base_uri": "https://localhost:8080/"
        },
        "outputId": "cda73712-e307-4503-f10a-04ebe7d8e342"
      },
      "source": [
        "#Mean Absolute Error Training(MAE)\n",
        "print('Linear Regression Mean Absolute Error Training:', mean_absolute_error(y_train, reg.predict(X_train)))\n",
        "#Mean Absolute Error Test(MAE)\n",
        "print('Linear Regression Mean Absolute Error Test:', mean_absolute_error(y_test, reg.predict(X_test)))"
      ],
      "execution_count": 43,
      "outputs": [
        {
          "output_type": "stream",
          "name": "stdout",
          "text": [
            "Linear Regression Mean Absolute Error Training: 890.5281463087556\n",
            "Linear Regression Mean Absolute Error Test: 849.2979627125636\n"
          ]
        }
      ]
    },
    {
      "cell_type": "code",
      "metadata": {
        "id": "H27LkNEqrxC2",
        "colab": {
          "base_uri": "https://localhost:8080/"
        },
        "outputId": "71a4fe05-74d5-4bad-98e5-1ce3dc8265b9"
      },
      "source": [
        "#Mean Squared Error Training(MSE)\n",
        "print('Linear Regression Mean Squared Error Training:', mean_squared_error(y_train, reg.predict(X_train)))\n",
        "#Mean Squared Error Testing(MSE)\n",
        "print('Linear Regression Mean Squared Error Testing:', mean_squared_error(y_test, reg.predict(X_test)))"
      ],
      "execution_count": 44,
      "outputs": [
        {
          "output_type": "stream",
          "name": "stdout",
          "text": [
            "Linear Regression Mean Squared Error Training: 1417710.6638729796\n",
            "Linear Regression Mean Squared Error Testing: 1300126.5528471756\n"
          ]
        }
      ]
    },
    {
      "cell_type": "code",
      "metadata": {
        "id": "RK0nfA2ir9CC",
        "colab": {
          "base_uri": "https://localhost:8080/"
        },
        "outputId": "f1ff8938-bc38-427e-e1e1-89f4402b59d2"
      },
      "source": [
        "#Root Mean Squared Error Training(RMSE)\n",
        "print('Linear Regression Root Mean Squared Error Training:', np.sqrt(mean_squared_error(y_train, reg.predict(X_train))))\n",
        "#Root Mean Squared Error Testing(RMSE)\n",
        "print('Linear Regression Root Mean Squared Error Testing:', np.sqrt(mean_squared_error(y_test, reg.predict(X_test))))"
      ],
      "execution_count": 45,
      "outputs": [
        {
          "output_type": "stream",
          "name": "stdout",
          "text": [
            "Linear Regression Root Mean Squared Error Training: 1190.6765572030802\n",
            "Linear Regression Root Mean Squared Error Testing: 1140.2309208433069\n"
          ]
        }
      ]
    },
    {
      "cell_type": "code",
      "metadata": {
        "id": "zlsV81mRsNPp",
        "colab": {
          "base_uri": "https://localhost:8080/"
        },
        "outputId": "fbf85804-2eac-4e89-a343-14ff8df08271"
      },
      "source": [
        "#Slope Coefficient (Coefficient of the features) and the y-intercept\n",
        "print('Slope Coefficients:', reg.coef_)\n",
        "print('y-intercept:', reg.intercept_)"
      ],
      "execution_count": 46,
      "outputs": [
        {
          "output_type": "stream",
          "name": "stdout",
          "text": [
            "Slope Coefficients: [   8.60604283   38.66851426  -85.61896068   -2.42501027  984.26396351\n",
            " -191.53865601 -343.39010755 -382.38914929  804.71122928]\n",
            "y-intercept: 2209.979357196489\n"
          ]
        }
      ]
    },
    {
      "cell_type": "code",
      "metadata": {
        "id": "XiCgCixoDal4",
        "colab": {
          "base_uri": "https://localhost:8080/"
        },
        "outputId": "7525a292-25d8-4cf8-a2a0-eaa4140937ea"
      },
      "source": [
        "df.info()"
      ],
      "execution_count": 47,
      "outputs": [
        {
          "output_type": "stream",
          "name": "stdout",
          "text": [
            "<class 'pandas.core.frame.DataFrame'>\n",
            "RangeIndex: 8523 entries, 0 to 8522\n",
            "Data columns (total 10 columns):\n",
            " #   Column                     Non-Null Count  Dtype  \n",
            "---  ------                     --------------  -----  \n",
            " 0   Item_Weight                8523 non-null   float64\n",
            " 1   Item_Fat_Content           8523 non-null   int64  \n",
            " 2   Item_Visibility            8523 non-null   float64\n",
            " 3   Item_Type                  8523 non-null   int64  \n",
            " 4   Item_MRP                   8523 non-null   float64\n",
            " 5   Outlet_Establishment_Year  8523 non-null   int64  \n",
            " 6   Outlet_Size                8523 non-null   int64  \n",
            " 7   Outlet_Location_Type       8523 non-null   int64  \n",
            " 8   Outlet_Type                8523 non-null   int64  \n",
            " 9   Item_Outlet_Sales          8523 non-null   float64\n",
            "dtypes: float64(4), int64(6)\n",
            "memory usage: 666.0 KB\n"
          ]
        }
      ]
    },
    {
      "cell_type": "code",
      "metadata": {
        "id": "bJ7JblyC_PBS",
        "colab": {
          "base_uri": "https://localhost:8080/"
        },
        "outputId": "dd1e08f4-0ff7-4a9c-d59c-aa3a67321502"
      },
      "source": [
        "importance = reg.coef_\n",
        "for i,v in enumerate(importance):\n",
        "    print('Feature: %0d, Score: %.5f' % (i,v))"
      ],
      "execution_count": 48,
      "outputs": [
        {
          "output_type": "stream",
          "name": "stdout",
          "text": [
            "Feature: 0, Score: 8.60604\n",
            "Feature: 1, Score: 38.66851\n",
            "Feature: 2, Score: -85.61896\n",
            "Feature: 3, Score: -2.42501\n",
            "Feature: 4, Score: 984.26396\n",
            "Feature: 5, Score: -191.53866\n",
            "Feature: 6, Score: -343.39011\n",
            "Feature: 7, Score: -382.38915\n",
            "Feature: 8, Score: 804.71123\n"
          ]
        }
      ]
    },
    {
      "cell_type": "code",
      "metadata": {
        "colab": {
          "base_uri": "https://localhost:8080/",
          "height": 325
        },
        "id": "NHIpDxBOISEz",
        "outputId": "d06ac2a7-87a6-441a-f2b0-6f3c4032aabc"
      },
      "source": [
        "importances = reg.coef_\n",
        "indices = np.argsort(importances)\n",
        "\n",
        "# Plot the feature importances of the forest\n",
        "plt.figure()\n",
        "plt.title(\"Linear Regression Feature importances\")\n",
        "plt.barh(range(X.shape[1]), importances[indices],\n",
        "       color=\"r\",  align=\"center\")\n",
        "# If you want to define your own labels,\n",
        "# change indices to a list of labels on the following line.\n",
        "plt.yticks(range(X.shape[1]), indices)\n",
        "plt.ylim([-1, X.shape[1]])\n",
        "plt.xlabel('Importances')\n",
        "plt.show()"
      ],
      "execution_count": 49,
      "outputs": [
        {
          "output_type": "display_data",
          "data": {
            "image/png": "[encoded data removed]",
            "text/plain": [
              "<Figure size 432x288 with 1 Axes>"
            ]
          },
          "metadata": {}
        }
      ]
    },
    {
      "cell_type": "markdown",
      "metadata": {
        "id": "ZmmD5mllH6F7"
      },
      "source": [
        "## Decision Tree"
      ]
    },
    {
      "cell_type": "code",
      "metadata": {
        "id": "gIxXAWf7eN08",
        "colab": {
          "base_uri": "https://localhost:8080/"
        },
        "outputId": "dc4e5d04-47e5-4075-8b00-c2549a034b3f"
      },
      "source": [
        "# Make a Decision Tree instance\n",
        "dec_tree = DecisionTreeRegressor(random_state = 42)\n",
        "#Model is learning the relationship between X and y\n",
        "dec_tree.fit(X_train, y_train)"
      ],
      "execution_count": 86,
      "outputs": [
        {
          "output_type": "execute_result",
          "data": {
            "text/plain": [
              "DecisionTreeRegressor(ccp_alpha=0.0, criterion='mse', max_depth=None,\n",
              "                      max_features=None, max_leaf_nodes=None,\n",
              "                      min_impurity_decrease=0.0, min_impurity_split=None,\n",
              "                      min_samples_leaf=1, min_samples_split=2,\n",
              "                      min_weight_fraction_leaf=0.0, presort='deprecated',\n",
              "                      random_state=42, splitter='best')"
            ]
          },
          "metadata": {},
          "execution_count": 86
        }
      ]
    },
    {
      "cell_type": "code",
      "metadata": {
        "colab": {
          "base_uri": "https://localhost:8080/"
        },
        "id": "3Nl5GubVf8Ik",
        "outputId": "3f4a1bc6-93a6-4844-f7c9-8d5d76671821"
      },
      "source": [
        "#The depth of the decision tree\n",
        "dec_tree.get_depth()"
      ],
      "execution_count": 53,
      "outputs": [
        {
          "output_type": "execute_result",
          "data": {
            "text/plain": [
              "33"
            ]
          },
          "metadata": {},
          "execution_count": 53
        }
      ]
    },
    {
      "cell_type": "code",
      "metadata": {
        "colab": {
          "base_uri": "https://localhost:8080/"
        },
        "id": "VKgcG0raf-zI",
        "outputId": "cfd1cb01-b305-46a6-f05f-4b55a2572b15"
      },
      "source": [
        "#Check leaf nodes\n",
        "dec_tree.get_n_leaves()"
      ],
      "execution_count": 54,
      "outputs": [
        {
          "output_type": "execute_result",
          "data": {
            "text/plain": [
              "6234"
            ]
          },
          "metadata": {},
          "execution_count": 54
        }
      ]
    },
    {
      "cell_type": "code",
      "metadata": {
        "colab": {
          "base_uri": "https://localhost:8080/"
        },
        "id": "1jxLU830fxNW",
        "outputId": "55068fad-e4e4-47e2-88b8-27dde14d68ce"
      },
      "source": [
        "#Evaluate the model by seeing it's R^2\n",
        "dec_tree_train_score = dec_tree.score(X_train, y_train)\n",
        "dec_tree_test_score = dec_tree.score(X_test, y_test)\n",
        "print('Decision Tree Train Score(Original):', dec_tree_train_score)\n",
        "print('Decision Tree Test Score(Original):',dec_tree_test_score)"
      ],
      "execution_count": 55,
      "outputs": [
        {
          "output_type": "stream",
          "name": "stdout",
          "text": [
            "Decision Tree Train Score(Original): 1.0\n",
            "Decision Tree Test Score(Original): 0.1495773317121969\n"
          ]
        }
      ]
    },
    {
      "cell_type": "code",
      "metadata": {
        "colab": {
          "base_uri": "https://localhost:8080/"
        },
        "id": "XtpQ-plMf0AE",
        "outputId": "568811d8-3b91-4bcd-8eb1-bc0631ff01ce"
      },
      "source": [
        "#Looking at options for tuning this model\n",
        "dec_tree"
      ],
      "execution_count": 56,
      "outputs": [
        {
          "output_type": "execute_result",
          "data": {
            "text/plain": [
              "DecisionTreeRegressor(ccp_alpha=0.0, criterion='mse', max_depth=None,\n",
              "                      max_features=None, max_leaf_nodes=None,\n",
              "                      min_impurity_decrease=0.0, min_impurity_split=None,\n",
              "                      min_samples_leaf=1, min_samples_split=2,\n",
              "                      min_weight_fraction_leaf=0.0, presort='deprecated',\n",
              "                      random_state=42, splitter='best')"
            ]
          },
          "metadata": {},
          "execution_count": 56
        }
      ]
    },
    {
      "cell_type": "code",
      "metadata": {
        "id": "P_M51tXagHSW"
      },
      "source": [
        "# List of values to try for max_depth:\n",
        "dec_tree_max_depth_range = list(range(2, 40)) # will try every value between 2 and 40\n",
        "# List to store the score for each value of max_depth:\n",
        "r2 = []\n",
        "for depth in dec_tree_max_depth_range:\n",
        "    dec_tree = DecisionTreeRegressor(max_depth = depth, \n",
        "                             random_state = 42)\n",
        "    dec_tree.fit(X_train, y_train)\n",
        "    score = dec_tree.score(X_test, y_test)\n",
        "    r2.append(score)"
      ],
      "execution_count": 57,
      "outputs": []
    },
    {
      "cell_type": "code",
      "metadata": {
        "colab": {
          "base_uri": "https://localhost:8080/",
          "height": 441
        },
        "id": "TwmxR7zkgLLk",
        "outputId": "036eb59d-877b-4635-8377-4e75f9f7a2f2"
      },
      "source": [
        "# Visualize which max_depth leads to the highest R^2 score\n",
        "import matplotlib.pyplot as plt\n",
        "import numpy as np\n",
        "plt.figure(figsize=(12,6));\n",
        "plt.plot(dec_tree_max_depth_range, r2, c='k');\n",
        "plt.xlabel('Max Depth');\n",
        "plt.ylabel('R^2');\n",
        "plt.grid(c='m');\n",
        "plt.locator_params(axis=\"x\", nbins=40);\n",
        "plt.title('Decision Tree Max Depth');"
      ],
      "execution_count": 58,
      "outputs": [
        {
          "output_type": "display_data",
          "data": {
            "image/png": "[encoded data removed]",
            "text/plain": [
              "<Figure size 864x432 with 1 Axes>"
            ]
          },
          "metadata": {}
        }
      ]
    },
    {
      "cell_type": "code",
      "metadata": {
        "colab": {
          "base_uri": "https://localhost:8080/"
        },
        "id": "SdJ6kNlOgWVl",
        "outputId": "3b5023fc-01dd-497b-dbad-b470e988e5ce"
      },
      "source": [
        "#Let's run the model with our optimized value for max_depth\n",
        "dec_tree = DecisionTreeRegressor(max_depth = 5, random_state = 42)\n",
        "dec_tree.fit(X_train, y_train)\n",
        "dec_tree_train_score = dec_tree.score(X_train, y_train)\n",
        "dec_tree_test_score = dec_tree.score(X_test, y_test)\n",
        "print('Decision Tree Train Score/Coefficient of Determination(R^2):', dec_tree_train_score)\n",
        "print('Decision Tree Test Score/Coefficient of Determination(R^2):',dec_tree_test_score)"
      ],
      "execution_count": 88,
      "outputs": [
        {
          "output_type": "stream",
          "name": "stdout",
          "text": [
            "Decision Tree Train Score/Coefficient of Determination(R^2): 0.6039333642950268\n",
            "Decision Tree Test Score/Coefficient of Determination(R^2): 0.5947002841975135\n"
          ]
        }
      ]
    },
    {
      "cell_type": "code",
      "metadata": {
        "colab": {
          "base_uri": "https://localhost:8080/"
        },
        "id": "ioooPi_TJ2Pq",
        "outputId": "eda40cf8-79e0-4786-f6a5-570f97089656"
      },
      "source": [
        "#Mean Absolute Error Training(MAE)\n",
        "print('Decision Tree Mean Absolute Error Training:', mean_absolute_error(y_train, dec_tree.predict(X_train)))\n",
        "#Mean Absolute Error Test(MAE)\n",
        "print('Decision Tree Mean Absolute Error Test:', mean_absolute_error(y_test, dec_tree.predict(X_test)))"
      ],
      "execution_count": 89,
      "outputs": [
        {
          "output_type": "stream",
          "name": "stdout",
          "text": [
            "Linear Regression Mean Absolute Error Training: 762.6547411187717\n",
            "Linear Regression Mean Absolute Error Test: 738.4705182782624\n"
          ]
        }
      ]
    },
    {
      "cell_type": "code",
      "metadata": {
        "id": "9oAYMhkgJ8bi"
      },
      "source": [
        "#Mean Squared Error Training(MSE)\n",
        "print('Decision Tree Mean Squared Error Training:', mean_squared_error(y_train, dec_tree.predict(X_train)))\n",
        "#Mean Squared Error Testing(MSE)\n",
        "print('Decision Tree Mean Squared Error Testing:', mean_squared_error(y_test, dec_tree.predict(X_test)))"
      ],
      "execution_count": null,
      "outputs": []
    },
    {
      "cell_type": "code",
      "metadata": {
        "colab": {
          "base_uri": "https://localhost:8080/"
        },
        "id": "pF692U2TJ85S",
        "outputId": "190c9344-9f20-45d0-eac2-5d7c6e95b6c3"
      },
      "source": [
        "#Root Mean Squared Error Training(RMSE)\n",
        "print('Decision Tree Root Mean Squared Error Training:', np.sqrt(mean_squared_error(y_train, dec_tree.predict(X_train))))\n",
        "#Root Mean Squared Error Testing(RMSE)\n",
        "print('Decision Tree Root Mean Squared Error Testing:', np.sqrt(mean_squared_error(y_test, dec_tree.predict(X_test))))"
      ],
      "execution_count": 90,
      "outputs": [
        {
          "output_type": "stream",
          "name": "stdout",
          "text": [
            "Linear Regression Root Mean Squared Error Training: 1082.6549147395608\n",
            "Linear Regression Root Mean Squared Error Testing: 1057.455772433794\n"
          ]
        }
      ]
    },
    {
      "cell_type": "code",
      "metadata": {
        "colab": {
          "base_uri": "https://localhost:8080/"
        },
        "id": "OawF-jFT75ut",
        "outputId": "7e8095af-9bb8-4789-ee63-0f9d3373df6e"
      },
      "source": [
        "dec_importance = dec_tree_5.feature_importances_\n",
        "for i,v in enumerate(dec_importance):\n",
        "    print('Feature: %0d, Score: %.5f' % (i,v))"
      ],
      "execution_count": 61,
      "outputs": [
        {
          "output_type": "stream",
          "name": "stdout",
          "text": [
            "Feature: 0, Score: 0.00007\n",
            "Feature: 1, Score: 0.00008\n",
            "Feature: 2, Score: 0.00087\n",
            "Feature: 3, Score: 0.00000\n",
            "Feature: 4, Score: 0.55238\n",
            "Feature: 5, Score: 0.02599\n",
            "Feature: 6, Score: 0.00000\n",
            "Feature: 7, Score: 0.00000\n",
            "Feature: 8, Score: 0.42062\n"
          ]
        }
      ]
    },
    {
      "cell_type": "code",
      "metadata": {
        "colab": {
          "base_uri": "https://localhost:8080/",
          "height": 325
        },
        "id": "IzkuLQJvKQDd",
        "outputId": "ff74fddb-3b4e-4b26-95e4-f3cf93a9befc"
      },
      "source": [
        "importances = dec_tree_5.feature_importances_\n",
        "indices = np.argsort(importances)\n",
        "\n",
        "# Plot the feature importances of the forest\n",
        "plt.figure()\n",
        "plt.title(\"Decision Tree Feature importances\")\n",
        "plt.barh(range(X.shape[1]), importances[indices],\n",
        "       color=\"r\",  align=\"center\")\n",
        "# If you want to define your own labels,\n",
        "# change indices to a list of labels on the following line.\n",
        "plt.yticks(range(X.shape[1]), indices)\n",
        "plt.ylim([-1, X.shape[1]])\n",
        "plt.xlabel('Importances')\n",
        "plt.show()"
      ],
      "execution_count": 62,
      "outputs": [
        {
          "output_type": "display_data",
          "data": {
            "image/png": "[encoded data removed]",
            "text/plain": [
              "<Figure size 432x288 with 1 Axes>"
            ]
          },
          "metadata": {}
        }
      ]
    },
    {
      "cell_type": "markdown",
      "metadata": {
        "id": "9bVfaz2tKsqH"
      },
      "source": [
        "## Bagged Tree"
      ]
    },
    {
      "cell_type": "code",
      "metadata": {
        "id": "DXaiedu2hrum",
        "colab": {
          "base_uri": "https://localhost:8080/"
        },
        "outputId": "655bfe8f-6b4a-434c-eb40-3ee13f334fc0"
      },
      "source": [
        "# Make a Bagged Tree instance\n",
        "bagreg = BaggingRegressor(random_state = 42)\n",
        "#Model is learning the relationship between X and y\n",
        "bagreg.fit(X_train, y_train)"
      ],
      "execution_count": 91,
      "outputs": [
        {
          "output_type": "execute_result",
          "data": {
            "text/plain": [
              "BaggingRegressor(base_estimator=None, bootstrap=True, bootstrap_features=False,\n",
              "                 max_features=1.0, max_samples=1.0, n_estimators=10,\n",
              "                 n_jobs=None, oob_score=False, random_state=42, verbose=0,\n",
              "                 warm_start=False)"
            ]
          },
          "metadata": {},
          "execution_count": 91
        }
      ]
    },
    {
      "cell_type": "code",
      "metadata": {
        "colab": {
          "base_uri": "https://localhost:8080/"
        },
        "id": "6IEWtr3vkZ3l",
        "outputId": "4a39d902-c98f-4be1-8fb8-2f3f09a8d20a"
      },
      "source": [
        "#Evaluate the model by seeing it's R^2\n",
        "bagreg_train_score = bagreg.score(X_train, y_train)\n",
        "bagreg_test_score = bagreg.score(X_test, y_test)\n",
        "print('Bagged Tree Train Score:',bagreg_train_score)\n",
        "print('Bagged Tree Test Score:',bagreg_test_score)"
      ],
      "execution_count": 69,
      "outputs": [
        {
          "output_type": "stream",
          "name": "stdout",
          "text": [
            "Bagged Tree Train Score: 0.9189852384558321\n",
            "Bagged Tree Test Score: 0.5100311033808562\n"
          ]
        }
      ]
    },
    {
      "cell_type": "markdown",
      "metadata": {
        "id": "Cdshzk4yLoJ6"
      },
      "source": [
        "## Random Forests"
      ]
    },
    {
      "cell_type": "code",
      "metadata": {
        "id": "LrfiFI38kv2O"
      },
      "source": [
        "# Make a Random Forests instance\n",
        "rf = RandomForestRegressor(random_state = 42)\n",
        "#Model is learning the relationship between X and y\n",
        "rf.fit(X_train, y_train)"
      ],
      "execution_count": 71,
      "outputs": []
    },
    {
      "cell_type": "code",
      "metadata": {
        "colab": {
          "base_uri": "https://localhost:8080/"
        },
        "id": "fDklKOsIlFZc",
        "outputId": "cd92f0ea-45a1-4e96-9812-5299fa4b97af"
      },
      "source": [
        "#Evaluate the model by seeing it's R^2\n",
        "rf_train_score = rf.score(X_train, y_train)\n",
        "rf_test_score = rf.score(X_test, y_test)\n",
        "print('Random Forests Train Score(Original):',rf_train_score)\n",
        "print('Random Forests Test Score(Original):',rf_test_score)"
      ],
      "execution_count": 75,
      "outputs": [
        {
          "output_type": "stream",
          "name": "stdout",
          "text": [
            "Random Forests Train Score(Original): 0.9374079970221483\n",
            "Random Forests Test Score(Original): 0.5490651989003774\n"
          ]
        }
      ]
    },
    {
      "cell_type": "code",
      "metadata": {
        "id": "WeB-A2eulI0o"
      },
      "source": [
        "# List of values to try for max_depth:\n",
        "rf_max_depth_range = list(range(2, 40)) # will try every value between 2 and 40\n",
        "# List to store the score for each value of max_depth:\n",
        "r2 = []\n",
        "for rf_depth in rf_max_depth_range:\n",
        "    rf = RandomForestRegressor(max_depth = rf_depth, random_state = 42)\n",
        "    rf.fit(X_train, y_train)\n",
        "    score = rf.score(X_test, y_test)\n",
        "    r2.append(score)"
      ],
      "execution_count": 76,
      "outputs": []
    },
    {
      "cell_type": "code",
      "metadata": {
        "colab": {
          "base_uri": "https://localhost:8080/",
          "height": 441
        },
        "id": "w9r9Kls8mXmH",
        "outputId": "278975cd-3a54-47c1-f891-6b7e1bed6704"
      },
      "source": [
        "# Visualize which max_depth leads to the highest R^2 score\n",
        "import matplotlib.pyplot as plt\n",
        "import numpy as np\n",
        "plt.figure(figsize=(12,6))\n",
        "plt.plot(rf_max_depth_range, r2, c='k');\n",
        "plt.xlabel('RF Max Depth');\n",
        "plt.ylabel('R^2');\n",
        "plt.grid(c='m');\n",
        "plt.locator_params(axis=\"x\", nbins=40);\n",
        "plt.title('Random Forest Max Depth');"
      ],
      "execution_count": 77,
      "outputs": [
        {
          "output_type": "display_data",
          "data": {
            "image/png": "[encoded data removed]",
            "text/plain": [
              "<Figure size 864x432 with 1 Axes>"
            ]
          },
          "metadata": {}
        }
      ]
    },
    {
      "cell_type": "code",
      "metadata": {
        "colab": {
          "base_uri": "https://localhost:8080/"
        },
        "id": "U5TMrzw_mbHe",
        "outputId": "f55210fd-343d-42c2-9926-ab934bf70ca6"
      },
      "source": [
        "#Let's run the model with our optimized value for max_depth\n",
        "rf = RandomForestRegressor(max_depth = 5, random_state = 42)\n",
        "rf.fit(X_train, y_train)\n",
        "rf_train_score = rf_5.score(X_train, y_train)\n",
        "rf_test_score = rf_5.score(X_test, y_test)\n",
        "print('Random Forests Train Score/Coefficient of Determination(R^2):',rf_train_score)\n",
        "print('Random Forests Test Score/Coefficient of Determination(R^2):',rf_test_score)"
      ],
      "execution_count": 78,
      "outputs": [
        {
          "output_type": "stream",
          "name": "stdout",
          "text": [
            "Random Forests Train Score(Optimized): 0.6104462786876537\n",
            "Random Forests Test Score(Optimized): 0.6020737470962458\n"
          ]
        }
      ]
    },
    {
      "cell_type": "code",
      "metadata": {
        "id": "fAJnnEFLMNNz"
      },
      "source": [
        "#Mean Absolute Error Training(MAE)\n",
        "print('Random Forests Mean Absolute Error Training:', mean_absolute_error(y_train, rf.predict(X_train)))\n",
        "#Mean Absolute Error Test(MAE)\n",
        "print('Random Forests Mean Absolute Error Test:', mean_absolute_error(y_test, rf.predict(X_test)))"
      ],
      "execution_count": null,
      "outputs": []
    },
    {
      "cell_type": "code",
      "metadata": {
        "id": "Tkxm7qs1MOLj"
      },
      "source": [
        "#Mean Squared Error Training(MSE)\n",
        "print('Random Forests Mean Squared Error Training:', mean_squared_error(y_train, rf.predict(X_train)))\n",
        "#Mean Squared Error Testing(MSE)\n",
        "print('Random Forests Mean Squared Error Testing:', mean_squared_error(y_test, rf.predict(X_test)))"
      ],
      "execution_count": null,
      "outputs": []
    },
    {
      "cell_type": "code",
      "metadata": {
        "id": "NsP6tCKOMN2K"
      },
      "source": [
        "#Root Mean Squared Error Training(RMSE)\n",
        "print('Random Forests Root Mean Squared Error Training:', np.sqrt(mean_squared_error(y_train, rf.predict(X_train))))\n",
        "#Root Mean Squared Error Testing(RMSE)\n",
        "print('Random Forests Root Mean Squared Error Testing:', np.sqrt(mean_squared_error(y_test, rf.predict(X_test))))"
      ],
      "execution_count": null,
      "outputs": []
    },
    {
      "cell_type": "code",
      "metadata": {
        "colab": {
          "base_uri": "https://localhost:8080/"
        },
        "id": "k12T6xFdLs3i",
        "outputId": "395e432e-3d1e-4408-f8bb-fcf9eb0ee7d7"
      },
      "source": [
        "rf_5_importance = rf_5.feature_importances_\n",
        "for i,v in enumerate(rf_5_importance):\n",
        "    print('Feature: %0d, Score: %.5f' % (i,v))"
      ],
      "execution_count": 80,
      "outputs": [
        {
          "output_type": "stream",
          "name": "stdout",
          "text": [
            "Feature: 0, Score: 0.00026\n",
            "Feature: 1, Score: 0.00005\n",
            "Feature: 2, Score: 0.00199\n",
            "Feature: 3, Score: 0.00042\n",
            "Feature: 4, Score: 0.55454\n",
            "Feature: 5, Score: 0.03067\n",
            "Feature: 6, Score: 0.00000\n",
            "Feature: 7, Score: 0.00000\n",
            "Feature: 8, Score: 0.41206\n"
          ]
        }
      ]
    },
    {
      "cell_type": "code",
      "metadata": {
        "colab": {
          "base_uri": "https://localhost:8080/",
          "height": 325
        },
        "id": "vj4dGZXqL1QT",
        "outputId": "2be8ad25-8f02-4dbd-9c4a-bdb46879ba38"
      },
      "source": [
        "importances = rf_5.feature_importances_\n",
        "indices = np.argsort(importances)\n",
        "\n",
        "# Plot the feature importances of the forest\n",
        "plt.figure()\n",
        "plt.title(\"Random Forests Feature importances\")\n",
        "plt.barh(range(X.shape[1]), importances[indices],\n",
        "       color=\"r\",  align=\"center\")\n",
        "# If you want to define your own labels,\n",
        "# change indices to a list of labels on the following line.\n",
        "plt.yticks(range(X.shape[1]), indices)\n",
        "plt.ylim([-1, X.shape[1]])\n",
        "plt.xlabel('Importances')\n",
        "plt.show()"
      ],
      "execution_count": 81,
      "outputs": [
        {
          "output_type": "display_data",
          "data": {
            "image/png": "[encoded data removed]",
            "text/plain": [
              "<Figure size 432x288 with 1 Axes>"
            ]
          },
          "metadata": {}
        }
      ]
    },
    {
      "cell_type": "markdown",
      "metadata": {
        "id": "3z_7Tae7NWDR"
      },
      "source": [
        "# Results"
      ]
    },
    {
      "cell_type": "code",
      "metadata": {
        "colab": {
          "base_uri": "https://localhost:8080/"
        },
        "id": "CE9PSRTrqRDC",
        "outputId": "64e492d7-a444-4437-bf07-abdd27f2be8a"
      },
      "source": [
        "print('Linear Regression Coefficient of Determination Training(R^2):',reg_train_score)\n",
        "print('Linear Regression Coefficient of Determination Training(R^2):', reg_test_score)\n",
        "print('')\n",
        "print('Decision Tree Coefficient of Determination Training(R^2):', dec_tree_train_score)\n",
        "print('Decision Tree Coefficient of Determination Training(R^2):',dec_tree_test_score)\n",
        "print('')\n",
        "print('Bagged Tree Coefficient of Determination Training(R^2):',bagreg_train_score)\n",
        "print('Bagged Tree Coefficient of Determination Training(R^2):',bagreg_test_score)\n",
        "print('')\n",
        "print('Random Forests Coefficient of Determination Training(R^2):',rf_train_score)\n",
        "print('Random Forests Coefficient of Determination Training(R^2):',rf_test_score)"
      ],
      "execution_count": 84,
      "outputs": [
        {
          "output_type": "stream",
          "name": "stdout",
          "text": [
            "Linear Regression Coefficient of Determination Training(R^2): 0.5209556062269973\n",
            "Linear Regression Coefficient of Determination Training(R^2): 0.528765039642368\n",
            "\n",
            "Decision Tree Coefficient of Determination Training(R^2): 0.6039333642950268\n",
            "Decision Tree Coefficient of Determination Training(R^2): 0.5947002841975135\n",
            "\n",
            "Bagged Tree Coefficient of Determination Training(R^2): 0.9189852384558321\n",
            "Bagged Tree Coefficient of Determination Training(R^2): 0.5100311033808562\n",
            "\n",
            "Random Forests Coefficient of Determination Training(R^2): 0.6104462786876537\n",
            "Random Forests Coefficient of Determination Training(R^2): 0.6020737470962458\n"
          ]
        }
      ]
    },
    {
      "cell_type": "code",
      "metadata": {
        "colab": {
          "base_uri": "https://localhost:8080/"
        },
        "id": "Bz62_HuRqhBp",
        "outputId": "d9d6c1f4-d730-4ae8-d039-2a6c018409f3"
      },
      "source": [
        "print('Linear Regression Root Mean Squared Error Training(RMSE):', np.sqrt(mean_squared_error(y_train, reg.predict(X_train))))\n",
        "print('Linear Regression Root Mean Squared Error Testing(RMSE):', np.sqrt(mean_squared_error(y_test, reg.predict(X_test))))\n",
        "print('')\n",
        "print('Decision Tree Root Mean Squared Error Training(RMSE):', np.sqrt(mean_squared_error(y_train, dec_tree.predict(X_train))))\n",
        "print('Decision Tree Root Mean Squared Error Testing(RMSE):', np.sqrt(mean_squared_error(y_test, dec_tree.predict(X_test))))\n",
        "print('')\n",
        "print('Bagged Tree Root Mean Squared Error Training(RMSE):', np.sqrt(mean_squared_error(y_train, bagreg.predict(X_train))))\n",
        "print('Bagged Tree Root Mean Squared Error Testing(RMSE):', np.sqrt(mean_squared_error(y_test, bagreg.predict(X_test))))\n",
        "print('')\n",
        "print('Random Forests Root Mean Squared Error Training(RMSE):', np.sqrt(mean_squared_error(y_train, rf.predict(X_train))))\n",
        "print('Random Forests Root Mean Squared Error Testing(RMSE):', np.sqrt(mean_squared_error(y_test, rf.predict(X_test))))"
      ],
      "execution_count": 85,
      "outputs": [
        {
          "output_type": "stream",
          "name": "stdout",
          "text": [
            "Linear Regression Root Mean Squared Error Training(RMSE): 1190.6765572030802\n",
            "Linear Regression Root Mean Squared Error Testing(RMSE): 1140.2309208433069\n",
            "\n",
            "Decision Tree Root Mean Squared Error Training(RMSE): 1082.6549147395608\n",
            "Decision Tree Root Mean Squared Error Testing(RMSE): 1057.455772433794\n",
            "\n",
            "Bagged Tree Root Mean Squared Error Training(RMSE): 489.65252802650434\n",
            "Bagged Tree Root Mean Squared Error Testing(RMSE): 1162.6749578037295\n",
            "\n",
            "Random Forests Root Mean Squared Error Training(RMSE): 1073.7164349852212\n",
            "Random Forests Root Mean Squared Error Testing(RMSE): 1047.7926770041222\n"
          ]
        }
      ]
    }
  ]
}